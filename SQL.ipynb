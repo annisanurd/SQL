{
  "cells": [
    {
      "cell_type": "markdown",
      "metadata": {
        "id": "view-in-github",
        "colab_type": "text"
      },
      "source": [
        "<a href=\"https://colab.research.google.com/github/annisanurd/SQL/blob/main/SQL.ipynb\" target=\"_parent\"><img src=\"https://colab.research.google.com/assets/colab-badge.svg\" alt=\"Open In Colab\"/></a>"
      ]
    },
    {
      "cell_type": "code",
      "execution_count": null,
      "id": "7a5e6593",
      "metadata": {
        "id": "7a5e6593"
      },
      "outputs": [],
      "source": [
        "import pandas as pd\n",
        "import sqlite3\n",
        "import seaborn as sns\n",
        "import matplotlib.pyplot as plt\n",
        "import numpy as np\n",
        "pd.set_option('display.max_columns',None)"
      ]
    },
    {
      "cell_type": "code",
      "execution_count": null,
      "id": "06c0bae9",
      "metadata": {
        "id": "06c0bae9"
      },
      "outputs": [],
      "source": [
        "def get_result(query):\n",
        "    conn = sqlite3.connect('olist.db')\n",
        "    cursor = conn.cursor()\n",
        "    cursor.execute(query)\n",
        "    data = cursor.fetchall()\n",
        "    conn.close()\n",
        "    return data\n",
        "\n",
        "def create_df(data, columns):\n",
        "    return pd.DataFrame(data = data, columns = columns).drop(['index'], axis =1)"
      ]
    },
    {
      "cell_type": "code",
      "execution_count": null,
      "id": "aecba80c",
      "metadata": {
        "id": "aecba80c"
      },
      "outputs": [],
      "source": [
        "olist_order_payments_dataset = create_df(get_result('select * from olist_order_payments_dataset'),\n",
        "                                         ['index',\n",
        "                                          'order_id',\n",
        "                                          'payment_sequential',\n",
        "                                          'payment_type',\n",
        "                                          'payment_installments',\n",
        "                                          'payment_value'\n",
        "                                         ])\n",
        "olist_order_dataset = create_df(get_result('select * from olist_order_dataset'),\n",
        "                                ['index',\n",
        "                                 'order_id',\n",
        "                                 'customer_id',\n",
        "                                 'order_status',\n",
        "                                 'order_purchase_timestamp',\n",
        "                                 'order_approved_at',\n",
        "                                 'order_delivered_carrier_date',\n",
        "                                 'order_delivered_customer_date',\n",
        "                                 'order_estimated_delivery_date'\n",
        "                                ])\n",
        "\n",
        "olist_order_customer_dataset = create_df(get_result('select * from olist_order_customer_dataset'),\n",
        "                                         ['index',\n",
        "                                          'customers_id',\n",
        "                                          'customers_uniq_id',\n",
        "                                          'customer_zip_code_prefix',\n",
        "                                          'customer_city',\n",
        "                                          'customer_state'\n",
        "                                         ])\n",
        "olist_order_items_dataset = create_df(get_result('select * from olist_order_items_dataset'),\n",
        "                                      ['index',\n",
        "                                       'order_id',\n",
        "                                       'order_item_id',\n",
        "                                       'product_id',\n",
        "                                       'seller_id',\n",
        "                                       'shipping_limit_date',\n",
        "                                       'price',\n",
        "                                       'freight_value'\n",
        "                                      ])\n",
        "olist_products_dataset = create_df(get_result('select * from olist_products_dataset'),\n",
        "                                   ['index',\n",
        "                                    'product_id',\n",
        "                                    'product_category_name',\n",
        "                                    'product_name_length',\n",
        "                                    'product_description_length',\n",
        "                                    'product_photos_qty',\n",
        "                                    'product_weight_g',\n",
        "                                    'product_length_cm',\n",
        "                                    'product_height_cm',\n",
        "                                    'product_width_cm'\n",
        "                                   ])\n",
        "product_category_name_translation = create_df(get_result('select * from product_category_name_translation'),\n",
        "                                             ['index',\n",
        "                                              'product_category_name',\n",
        "                                              'product_category_name_english'\n",
        "                                             ])"
      ]
    },
    {
      "cell_type": "code",
      "execution_count": null,
      "id": "43d277b5",
      "metadata": {
        "id": "43d277b5"
      },
      "outputs": [],
      "source": [
        "product = olist_products_dataset\n",
        "order_item = olist_order_items_dataset\n",
        "order = olist_order_dataset\n",
        "payments = olist_order_payments_dataset\n",
        "cust = olist_order_customer_dataset"
      ]
    },
    {
      "cell_type": "code",
      "execution_count": null,
      "id": "72f52766",
      "metadata": {
        "id": "72f52766"
      },
      "outputs": [],
      "source": [
        "products = pd.merge(product, product_category_name_translation, on='product_category_name',how='left')\n"
      ]
    },
    {
      "cell_type": "code",
      "execution_count": null,
      "id": "1cd6925c",
      "metadata": {
        "id": "1cd6925c",
        "outputId": "80152689-1feb-482a-d35e-8b0387f79214"
      },
      "outputs": [
        {
          "name": "stdout",
          "output_type": "stream",
          "text": [
            "<class 'pandas.core.frame.DataFrame'>\n",
            "Int64Index: 32951 entries, 0 to 32950\n",
            "Data columns (total 10 columns):\n",
            " #   Column                         Non-Null Count  Dtype  \n",
            "---  ------                         --------------  -----  \n",
            " 0   product_id                     32951 non-null  object \n",
            " 1   product_category_name          32341 non-null  object \n",
            " 2   product_name_length            32341 non-null  float64\n",
            " 3   product_description_length     32341 non-null  float64\n",
            " 4   product_photos_qty             32341 non-null  float64\n",
            " 5   product_weight_g               32949 non-null  float64\n",
            " 6   product_length_cm              32949 non-null  float64\n",
            " 7   product_height_cm              32949 non-null  float64\n",
            " 8   product_width_cm               32949 non-null  float64\n",
            " 9   product_category_name_english  32328 non-null  object \n",
            "dtypes: float64(7), object(3)\n",
            "memory usage: 2.8+ MB\n"
          ]
        }
      ],
      "source": [
        "products.info()"
      ]
    },
    {
      "cell_type": "code",
      "execution_count": null,
      "id": "0c9cd0b2",
      "metadata": {
        "id": "0c9cd0b2",
        "outputId": "9be41109-8ae4-48a1-9de8-56ff05c52030"
      },
      "outputs": [
        {
          "data": {
            "text/html": [
              "<div>\n",
              "<style scoped>\n",
              "    .dataframe tbody tr th:only-of-type {\n",
              "        vertical-align: middle;\n",
              "    }\n",
              "\n",
              "    .dataframe tbody tr th {\n",
              "        vertical-align: top;\n",
              "    }\n",
              "\n",
              "    .dataframe thead th {\n",
              "        text-align: right;\n",
              "    }\n",
              "</style>\n",
              "<table border=\"1\" class=\"dataframe\">\n",
              "  <thead>\n",
              "    <tr style=\"text-align: right;\">\n",
              "      <th></th>\n",
              "      <th>product_category_name</th>\n",
              "      <th>product_category_name_english</th>\n",
              "    </tr>\n",
              "  </thead>\n",
              "  <tbody>\n",
              "    <tr>\n",
              "      <th>1628</th>\n",
              "      <td>pc_gamer</td>\n",
              "      <td>NaN</td>\n",
              "    </tr>\n",
              "    <tr>\n",
              "      <th>5821</th>\n",
              "      <td>portateis_cozinha_e_preparadores_de_alimentos</td>\n",
              "      <td>NaN</td>\n",
              "    </tr>\n",
              "    <tr>\n",
              "      <th>7325</th>\n",
              "      <td>portateis_cozinha_e_preparadores_de_alimentos</td>\n",
              "      <td>NaN</td>\n",
              "    </tr>\n",
              "    <tr>\n",
              "      <th>7478</th>\n",
              "      <td>pc_gamer</td>\n",
              "      <td>NaN</td>\n",
              "    </tr>\n",
              "    <tr>\n",
              "      <th>8819</th>\n",
              "      <td>portateis_cozinha_e_preparadores_de_alimentos</td>\n",
              "      <td>NaN</td>\n",
              "    </tr>\n",
              "    <tr>\n",
              "      <th>11039</th>\n",
              "      <td>portateis_cozinha_e_preparadores_de_alimentos</td>\n",
              "      <td>NaN</td>\n",
              "    </tr>\n",
              "    <tr>\n",
              "      <th>14266</th>\n",
              "      <td>portateis_cozinha_e_preparadores_de_alimentos</td>\n",
              "      <td>NaN</td>\n",
              "    </tr>\n",
              "    <tr>\n",
              "      <th>16182</th>\n",
              "      <td>portateis_cozinha_e_preparadores_de_alimentos</td>\n",
              "      <td>NaN</td>\n",
              "    </tr>\n",
              "    <tr>\n",
              "      <th>16930</th>\n",
              "      <td>pc_gamer</td>\n",
              "      <td>NaN</td>\n",
              "    </tr>\n",
              "    <tr>\n",
              "      <th>17800</th>\n",
              "      <td>portateis_cozinha_e_preparadores_de_alimentos</td>\n",
              "      <td>NaN</td>\n",
              "    </tr>\n",
              "    <tr>\n",
              "      <th>18610</th>\n",
              "      <td>portateis_cozinha_e_preparadores_de_alimentos</td>\n",
              "      <td>NaN</td>\n",
              "    </tr>\n",
              "    <tr>\n",
              "      <th>26890</th>\n",
              "      <td>portateis_cozinha_e_preparadores_de_alimentos</td>\n",
              "      <td>NaN</td>\n",
              "    </tr>\n",
              "    <tr>\n",
              "      <th>29919</th>\n",
              "      <td>portateis_cozinha_e_preparadores_de_alimentos</td>\n",
              "      <td>NaN</td>\n",
              "    </tr>\n",
              "  </tbody>\n",
              "</table>\n",
              "</div>"
            ],
            "text/plain": [
              "                               product_category_name  \\\n",
              "1628                                        pc_gamer   \n",
              "5821   portateis_cozinha_e_preparadores_de_alimentos   \n",
              "7325   portateis_cozinha_e_preparadores_de_alimentos   \n",
              "7478                                        pc_gamer   \n",
              "8819   portateis_cozinha_e_preparadores_de_alimentos   \n",
              "11039  portateis_cozinha_e_preparadores_de_alimentos   \n",
              "14266  portateis_cozinha_e_preparadores_de_alimentos   \n",
              "16182  portateis_cozinha_e_preparadores_de_alimentos   \n",
              "16930                                       pc_gamer   \n",
              "17800  portateis_cozinha_e_preparadores_de_alimentos   \n",
              "18610  portateis_cozinha_e_preparadores_de_alimentos   \n",
              "26890  portateis_cozinha_e_preparadores_de_alimentos   \n",
              "29919  portateis_cozinha_e_preparadores_de_alimentos   \n",
              "\n",
              "      product_category_name_english  \n",
              "1628                            NaN  \n",
              "5821                            NaN  \n",
              "7325                            NaN  \n",
              "7478                            NaN  \n",
              "8819                            NaN  \n",
              "11039                           NaN  \n",
              "14266                           NaN  \n",
              "16182                           NaN  \n",
              "16930                           NaN  \n",
              "17800                           NaN  \n",
              "18610                           NaN  \n",
              "26890                           NaN  \n",
              "29919                           NaN  "
            ]
          },
          "execution_count": 11,
          "metadata": {},
          "output_type": "execute_result"
        }
      ],
      "source": [
        "products[['product_category_name','product_category_name_english']][(products['product_category_name'].notnull()) & (products['product_category_name_english'].isnull())]\n"
      ]
    },
    {
      "cell_type": "code",
      "execution_count": null,
      "id": "72103d3d",
      "metadata": {
        "id": "72103d3d"
      },
      "outputs": [],
      "source": [
        "products.loc[products['product_category_name']=='pc_gamer','product_category_name_english'] = products.loc[products['product_category_name']=='pc_gamer','product_category_name_english'].fillna('pc_game')\n",
        "products.loc[products['product_category_name']=='portateis_cozinha_e_preparadores_de_alimentos','product_category_name_english'] = products.loc[products['product_category_name']=='portateis_cozinha_e_preparadores_de_alimentos','product_category_name_english'].fillna('portable_kitchen_food_preparers')\n"
      ]
    },
    {
      "cell_type": "code",
      "execution_count": null,
      "id": "57641f54",
      "metadata": {
        "id": "57641f54",
        "outputId": "21605987-e354-4382-f8aa-eed7cbd32dc5"
      },
      "outputs": [
        {
          "data": {
            "text/html": [
              "<div>\n",
              "<style scoped>\n",
              "    .dataframe tbody tr th:only-of-type {\n",
              "        vertical-align: middle;\n",
              "    }\n",
              "\n",
              "    .dataframe tbody tr th {\n",
              "        vertical-align: top;\n",
              "    }\n",
              "\n",
              "    .dataframe thead th {\n",
              "        text-align: right;\n",
              "    }\n",
              "</style>\n",
              "<table border=\"1\" class=\"dataframe\">\n",
              "  <thead>\n",
              "    <tr style=\"text-align: right;\">\n",
              "      <th></th>\n",
              "      <th>product_id</th>\n",
              "      <th>product_category_name</th>\n",
              "      <th>product_name_length</th>\n",
              "      <th>product_description_length</th>\n",
              "      <th>product_photos_qty</th>\n",
              "      <th>product_weight_g</th>\n",
              "      <th>product_length_cm</th>\n",
              "      <th>product_height_cm</th>\n",
              "      <th>product_width_cm</th>\n",
              "      <th>product_category_name_english</th>\n",
              "    </tr>\n",
              "  </thead>\n",
              "  <tbody>\n",
              "    <tr>\n",
              "      <th>1628</th>\n",
              "      <td>0105b5323d24fc655f73052694dbbb3a</td>\n",
              "      <td>pc_gamer</td>\n",
              "      <td>59.0</td>\n",
              "      <td>621.0</td>\n",
              "      <td>4.0</td>\n",
              "      <td>2839.0</td>\n",
              "      <td>19.0</td>\n",
              "      <td>16.0</td>\n",
              "      <td>18.0</td>\n",
              "      <td>pc_game</td>\n",
              "    </tr>\n",
              "    <tr>\n",
              "      <th>7478</th>\n",
              "      <td>6727051471a0fc4a0e7737b57bff2549</td>\n",
              "      <td>pc_gamer</td>\n",
              "      <td>60.0</td>\n",
              "      <td>1532.0</td>\n",
              "      <td>3.0</td>\n",
              "      <td>650.0</td>\n",
              "      <td>16.0</td>\n",
              "      <td>22.0</td>\n",
              "      <td>20.0</td>\n",
              "      <td>pc_game</td>\n",
              "    </tr>\n",
              "    <tr>\n",
              "      <th>16930</th>\n",
              "      <td>dbe520fb381ad695a7e1f2807d20c765</td>\n",
              "      <td>pc_gamer</td>\n",
              "      <td>60.0</td>\n",
              "      <td>840.0</td>\n",
              "      <td>6.0</td>\n",
              "      <td>800.0</td>\n",
              "      <td>18.0</td>\n",
              "      <td>22.0</td>\n",
              "      <td>22.0</td>\n",
              "      <td>pc_game</td>\n",
              "    </tr>\n",
              "  </tbody>\n",
              "</table>\n",
              "</div>"
            ],
            "text/plain": [
              "                             product_id product_category_name  \\\n",
              "1628   0105b5323d24fc655f73052694dbbb3a              pc_gamer   \n",
              "7478   6727051471a0fc4a0e7737b57bff2549              pc_gamer   \n",
              "16930  dbe520fb381ad695a7e1f2807d20c765              pc_gamer   \n",
              "\n",
              "       product_name_length  product_description_length  product_photos_qty  \\\n",
              "1628                  59.0                       621.0                 4.0   \n",
              "7478                  60.0                      1532.0                 3.0   \n",
              "16930                 60.0                       840.0                 6.0   \n",
              "\n",
              "       product_weight_g  product_length_cm  product_height_cm  \\\n",
              "1628             2839.0               19.0               16.0   \n",
              "7478              650.0               16.0               22.0   \n",
              "16930             800.0               18.0               22.0   \n",
              "\n",
              "       product_width_cm product_category_name_english  \n",
              "1628               18.0                       pc_game  \n",
              "7478               20.0                       pc_game  \n",
              "16930              22.0                       pc_game  "
            ]
          },
          "execution_count": 13,
          "metadata": {},
          "output_type": "execute_result"
        }
      ],
      "source": [
        "products[products['product_category_name_english']=='pc_game']\n"
      ]
    },
    {
      "cell_type": "code",
      "execution_count": null,
      "id": "e9cbbc29",
      "metadata": {
        "id": "e9cbbc29",
        "outputId": "6ab8cc81-97b9-490f-d3c6-015080ab3abf"
      },
      "outputs": [
        {
          "name": "stdout",
          "output_type": "stream",
          "text": [
            "<class 'pandas.core.frame.DataFrame'>\n",
            "Int64Index: 32951 entries, 0 to 32950\n",
            "Data columns (total 10 columns):\n",
            " #   Column                         Non-Null Count  Dtype  \n",
            "---  ------                         --------------  -----  \n",
            " 0   product_id                     32951 non-null  object \n",
            " 1   product_category_name          32341 non-null  object \n",
            " 2   product_name_length            32341 non-null  float64\n",
            " 3   product_description_length     32341 non-null  float64\n",
            " 4   product_photos_qty             32341 non-null  float64\n",
            " 5   product_weight_g               32949 non-null  float64\n",
            " 6   product_length_cm              32949 non-null  float64\n",
            " 7   product_height_cm              32949 non-null  float64\n",
            " 8   product_width_cm               32949 non-null  float64\n",
            " 9   product_category_name_english  32341 non-null  object \n",
            "dtypes: float64(7), object(3)\n",
            "memory usage: 2.8+ MB\n"
          ]
        }
      ],
      "source": [
        "products.info()\n"
      ]
    },
    {
      "cell_type": "code",
      "execution_count": null,
      "id": "05e210ff",
      "metadata": {
        "id": "05e210ff",
        "outputId": "c4b702a6-71be-426d-895c-1375083b732a"
      },
      "outputs": [
        {
          "data": {
            "text/plain": [
              "product_id                         0\n",
              "product_category_name            610\n",
              "product_name_length              610\n",
              "product_description_length       610\n",
              "product_photos_qty               610\n",
              "product_weight_g                   2\n",
              "product_length_cm                  2\n",
              "product_height_cm                  2\n",
              "product_width_cm                   2\n",
              "product_category_name_english    610\n",
              "dtype: int64"
            ]
          },
          "execution_count": 15,
          "metadata": {},
          "output_type": "execute_result"
        }
      ],
      "source": [
        "# Tabel Produk: Handling Missing Value\n",
        "products.isna().sum()\n"
      ]
    },
    {
      "cell_type": "code",
      "execution_count": null,
      "id": "b1912eda",
      "metadata": {
        "id": "b1912eda"
      },
      "outputs": [],
      "source": [
        "products = products.dropna()\n"
      ]
    },
    {
      "cell_type": "code",
      "execution_count": null,
      "id": "caef2c74",
      "metadata": {
        "id": "caef2c74",
        "outputId": "a6421017-874d-46ce-eab7-7547b6c2a688"
      },
      "outputs": [
        {
          "data": {
            "text/plain": [
              "product_id                       0\n",
              "product_category_name            0\n",
              "product_name_length              0\n",
              "product_description_length       0\n",
              "product_photos_qty               0\n",
              "product_weight_g                 0\n",
              "product_length_cm                0\n",
              "product_height_cm                0\n",
              "product_width_cm                 0\n",
              "product_category_name_english    0\n",
              "dtype: int64"
            ]
          },
          "execution_count": 17,
          "metadata": {},
          "output_type": "execute_result"
        }
      ],
      "source": [
        "products.isna().sum()\n"
      ]
    },
    {
      "cell_type": "code",
      "execution_count": null,
      "id": "342c8066",
      "metadata": {
        "id": "342c8066",
        "outputId": "1daff47b-5f8d-45f9-8d64-5bd4bd4fd616"
      },
      "outputs": [
        {
          "data": {
            "text/plain": [
              "0"
            ]
          },
          "execution_count": 18,
          "metadata": {},
          "output_type": "execute_result"
        }
      ],
      "source": [
        "#Tabel Produk: Identifikasi Data Duplikat\n",
        "products.duplicated().sum()"
      ]
    },
    {
      "cell_type": "code",
      "execution_count": null,
      "id": "a316dd28",
      "metadata": {
        "id": "a316dd28",
        "outputId": "53c5ee23-4c2f-4341-c4e8-6acdfacf8d44"
      },
      "outputs": [
        {
          "data": {
            "text/html": [
              "<div>\n",
              "<style scoped>\n",
              "    .dataframe tbody tr th:only-of-type {\n",
              "        vertical-align: middle;\n",
              "    }\n",
              "\n",
              "    .dataframe tbody tr th {\n",
              "        vertical-align: top;\n",
              "    }\n",
              "\n",
              "    .dataframe thead th {\n",
              "        text-align: right;\n",
              "    }\n",
              "</style>\n",
              "<table border=\"1\" class=\"dataframe\">\n",
              "  <thead>\n",
              "    <tr style=\"text-align: right;\">\n",
              "      <th></th>\n",
              "      <th>product_id</th>\n",
              "      <th>product_category_name</th>\n",
              "      <th>product_name_length</th>\n",
              "      <th>product_description_length</th>\n",
              "      <th>product_photos_qty</th>\n",
              "      <th>product_weight_g</th>\n",
              "      <th>product_length_cm</th>\n",
              "      <th>product_height_cm</th>\n",
              "      <th>product_width_cm</th>\n",
              "      <th>product_category_name_english</th>\n",
              "    </tr>\n",
              "  </thead>\n",
              "  <tbody>\n",
              "    <tr>\n",
              "      <th>0</th>\n",
              "      <td>1e9e8ef04dbcff4541ed26657ea517e5</td>\n",
              "      <td>perfumaria</td>\n",
              "      <td>40.0</td>\n",
              "      <td>287.0</td>\n",
              "      <td>1.0</td>\n",
              "      <td>225.0</td>\n",
              "      <td>16.0</td>\n",
              "      <td>10.0</td>\n",
              "      <td>14.0</td>\n",
              "      <td>perfumery</td>\n",
              "    </tr>\n",
              "    <tr>\n",
              "      <th>1</th>\n",
              "      <td>3aa071139cb16b67ca9e5dea641aaa2f</td>\n",
              "      <td>artes</td>\n",
              "      <td>44.0</td>\n",
              "      <td>276.0</td>\n",
              "      <td>1.0</td>\n",
              "      <td>1000.0</td>\n",
              "      <td>30.0</td>\n",
              "      <td>18.0</td>\n",
              "      <td>20.0</td>\n",
              "      <td>art</td>\n",
              "    </tr>\n",
              "    <tr>\n",
              "      <th>2</th>\n",
              "      <td>96bd76ec8810374ed1b65e291975717f</td>\n",
              "      <td>esporte_lazer</td>\n",
              "      <td>46.0</td>\n",
              "      <td>250.0</td>\n",
              "      <td>1.0</td>\n",
              "      <td>154.0</td>\n",
              "      <td>18.0</td>\n",
              "      <td>9.0</td>\n",
              "      <td>15.0</td>\n",
              "      <td>sports_leisure</td>\n",
              "    </tr>\n",
              "    <tr>\n",
              "      <th>3</th>\n",
              "      <td>cef67bcfe19066a932b7673e239eb23d</td>\n",
              "      <td>bebes</td>\n",
              "      <td>27.0</td>\n",
              "      <td>261.0</td>\n",
              "      <td>1.0</td>\n",
              "      <td>371.0</td>\n",
              "      <td>26.0</td>\n",
              "      <td>4.0</td>\n",
              "      <td>26.0</td>\n",
              "      <td>baby</td>\n",
              "    </tr>\n",
              "    <tr>\n",
              "      <th>4</th>\n",
              "      <td>9dc1a7de274444849c219cff195d0b71</td>\n",
              "      <td>utilidades_domesticas</td>\n",
              "      <td>37.0</td>\n",
              "      <td>402.0</td>\n",
              "      <td>4.0</td>\n",
              "      <td>625.0</td>\n",
              "      <td>20.0</td>\n",
              "      <td>17.0</td>\n",
              "      <td>13.0</td>\n",
              "      <td>housewares</td>\n",
              "    </tr>\n",
              "  </tbody>\n",
              "</table>\n",
              "</div>"
            ],
            "text/plain": [
              "                         product_id  product_category_name  \\\n",
              "0  1e9e8ef04dbcff4541ed26657ea517e5             perfumaria   \n",
              "1  3aa071139cb16b67ca9e5dea641aaa2f                  artes   \n",
              "2  96bd76ec8810374ed1b65e291975717f          esporte_lazer   \n",
              "3  cef67bcfe19066a932b7673e239eb23d                  bebes   \n",
              "4  9dc1a7de274444849c219cff195d0b71  utilidades_domesticas   \n",
              "\n",
              "   product_name_length  product_description_length  product_photos_qty  \\\n",
              "0                 40.0                       287.0                 1.0   \n",
              "1                 44.0                       276.0                 1.0   \n",
              "2                 46.0                       250.0                 1.0   \n",
              "3                 27.0                       261.0                 1.0   \n",
              "4                 37.0                       402.0                 4.0   \n",
              "\n",
              "   product_weight_g  product_length_cm  product_height_cm  product_width_cm  \\\n",
              "0             225.0               16.0               10.0              14.0   \n",
              "1            1000.0               30.0               18.0              20.0   \n",
              "2             154.0               18.0                9.0              15.0   \n",
              "3             371.0               26.0                4.0              26.0   \n",
              "4             625.0               20.0               17.0              13.0   \n",
              "\n",
              "  product_category_name_english  \n",
              "0                     perfumery  \n",
              "1                           art  \n",
              "2                sports_leisure  \n",
              "3                          baby  \n",
              "4                    housewares  "
            ]
          },
          "execution_count": 19,
          "metadata": {},
          "output_type": "execute_result"
        }
      ],
      "source": [
        "products.head()\n"
      ]
    },
    {
      "cell_type": "code",
      "execution_count": null,
      "id": "c0eaf8b8",
      "metadata": {
        "id": "c0eaf8b8"
      },
      "outputs": [],
      "source": [
        "products = products.rename(columns={'product_category_name': 'product_category_name_portuguese'})\n",
        "products = products.rename(columns={'product_category_name_english': 'product_category_name'})\n"
      ]
    },
    {
      "cell_type": "code",
      "execution_count": null,
      "id": "46da3f74",
      "metadata": {
        "id": "46da3f74",
        "outputId": "a24369d2-2dfa-4e95-b65c-6bacec8c4a00"
      },
      "outputs": [
        {
          "data": {
            "text/html": [
              "<div>\n",
              "<style scoped>\n",
              "    .dataframe tbody tr th:only-of-type {\n",
              "        vertical-align: middle;\n",
              "    }\n",
              "\n",
              "    .dataframe tbody tr th {\n",
              "        vertical-align: top;\n",
              "    }\n",
              "\n",
              "    .dataframe thead th {\n",
              "        text-align: right;\n",
              "    }\n",
              "</style>\n",
              "<table border=\"1\" class=\"dataframe\">\n",
              "  <thead>\n",
              "    <tr style=\"text-align: right;\">\n",
              "      <th></th>\n",
              "      <th>product_id</th>\n",
              "      <th>product_category_name_portuguese</th>\n",
              "      <th>product_name_length</th>\n",
              "      <th>product_description_length</th>\n",
              "      <th>product_photos_qty</th>\n",
              "      <th>product_weight_g</th>\n",
              "      <th>product_length_cm</th>\n",
              "      <th>product_height_cm</th>\n",
              "      <th>product_width_cm</th>\n",
              "      <th>product_category_name</th>\n",
              "    </tr>\n",
              "  </thead>\n",
              "  <tbody>\n",
              "    <tr>\n",
              "      <th>0</th>\n",
              "      <td>1e9e8ef04dbcff4541ed26657ea517e5</td>\n",
              "      <td>perfumaria</td>\n",
              "      <td>40.0</td>\n",
              "      <td>287.0</td>\n",
              "      <td>1.0</td>\n",
              "      <td>225.0</td>\n",
              "      <td>16.0</td>\n",
              "      <td>10.0</td>\n",
              "      <td>14.0</td>\n",
              "      <td>perfumery</td>\n",
              "    </tr>\n",
              "    <tr>\n",
              "      <th>1</th>\n",
              "      <td>3aa071139cb16b67ca9e5dea641aaa2f</td>\n",
              "      <td>artes</td>\n",
              "      <td>44.0</td>\n",
              "      <td>276.0</td>\n",
              "      <td>1.0</td>\n",
              "      <td>1000.0</td>\n",
              "      <td>30.0</td>\n",
              "      <td>18.0</td>\n",
              "      <td>20.0</td>\n",
              "      <td>art</td>\n",
              "    </tr>\n",
              "    <tr>\n",
              "      <th>2</th>\n",
              "      <td>96bd76ec8810374ed1b65e291975717f</td>\n",
              "      <td>esporte_lazer</td>\n",
              "      <td>46.0</td>\n",
              "      <td>250.0</td>\n",
              "      <td>1.0</td>\n",
              "      <td>154.0</td>\n",
              "      <td>18.0</td>\n",
              "      <td>9.0</td>\n",
              "      <td>15.0</td>\n",
              "      <td>sports_leisure</td>\n",
              "    </tr>\n",
              "    <tr>\n",
              "      <th>3</th>\n",
              "      <td>cef67bcfe19066a932b7673e239eb23d</td>\n",
              "      <td>bebes</td>\n",
              "      <td>27.0</td>\n",
              "      <td>261.0</td>\n",
              "      <td>1.0</td>\n",
              "      <td>371.0</td>\n",
              "      <td>26.0</td>\n",
              "      <td>4.0</td>\n",
              "      <td>26.0</td>\n",
              "      <td>baby</td>\n",
              "    </tr>\n",
              "    <tr>\n",
              "      <th>4</th>\n",
              "      <td>9dc1a7de274444849c219cff195d0b71</td>\n",
              "      <td>utilidades_domesticas</td>\n",
              "      <td>37.0</td>\n",
              "      <td>402.0</td>\n",
              "      <td>4.0</td>\n",
              "      <td>625.0</td>\n",
              "      <td>20.0</td>\n",
              "      <td>17.0</td>\n",
              "      <td>13.0</td>\n",
              "      <td>housewares</td>\n",
              "    </tr>\n",
              "  </tbody>\n",
              "</table>\n",
              "</div>"
            ],
            "text/plain": [
              "                         product_id product_category_name_portuguese  \\\n",
              "0  1e9e8ef04dbcff4541ed26657ea517e5                       perfumaria   \n",
              "1  3aa071139cb16b67ca9e5dea641aaa2f                            artes   \n",
              "2  96bd76ec8810374ed1b65e291975717f                    esporte_lazer   \n",
              "3  cef67bcfe19066a932b7673e239eb23d                            bebes   \n",
              "4  9dc1a7de274444849c219cff195d0b71            utilidades_domesticas   \n",
              "\n",
              "   product_name_length  product_description_length  product_photos_qty  \\\n",
              "0                 40.0                       287.0                 1.0   \n",
              "1                 44.0                       276.0                 1.0   \n",
              "2                 46.0                       250.0                 1.0   \n",
              "3                 27.0                       261.0                 1.0   \n",
              "4                 37.0                       402.0                 4.0   \n",
              "\n",
              "   product_weight_g  product_length_cm  product_height_cm  product_width_cm  \\\n",
              "0             225.0               16.0               10.0              14.0   \n",
              "1            1000.0               30.0               18.0              20.0   \n",
              "2             154.0               18.0                9.0              15.0   \n",
              "3             371.0               26.0                4.0              26.0   \n",
              "4             625.0               20.0               17.0              13.0   \n",
              "\n",
              "  product_category_name  \n",
              "0             perfumery  \n",
              "1                   art  \n",
              "2        sports_leisure  \n",
              "3                  baby  \n",
              "4            housewares  "
            ]
          },
          "execution_count": 21,
          "metadata": {},
          "output_type": "execute_result"
        }
      ],
      "source": [
        "products.head()\n"
      ]
    },
    {
      "cell_type": "code",
      "execution_count": null,
      "id": "84a06712",
      "metadata": {
        "id": "84a06712",
        "outputId": "2ba35b4a-8421-40c5-870d-155591a2cdcc"
      },
      "outputs": [
        {
          "data": {
            "text/html": [
              "<div>\n",
              "<style scoped>\n",
              "    .dataframe tbody tr th:only-of-type {\n",
              "        vertical-align: middle;\n",
              "    }\n",
              "\n",
              "    .dataframe tbody tr th {\n",
              "        vertical-align: top;\n",
              "    }\n",
              "\n",
              "    .dataframe thead th {\n",
              "        text-align: right;\n",
              "    }\n",
              "</style>\n",
              "<table border=\"1\" class=\"dataframe\">\n",
              "  <thead>\n",
              "    <tr style=\"text-align: right;\">\n",
              "      <th></th>\n",
              "      <th>index</th>\n",
              "      <th>product_category_name</th>\n",
              "    </tr>\n",
              "  </thead>\n",
              "  <tbody>\n",
              "    <tr>\n",
              "      <th>44</th>\n",
              "      <td>agro_industry_and_commerce</td>\n",
              "      <td>74</td>\n",
              "    </tr>\n",
              "    <tr>\n",
              "      <th>29</th>\n",
              "      <td>air_conditioning</td>\n",
              "      <td>124</td>\n",
              "    </tr>\n",
              "    <tr>\n",
              "      <th>48</th>\n",
              "      <td>art</td>\n",
              "      <td>55</td>\n",
              "    </tr>\n",
              "    <tr>\n",
              "      <th>61</th>\n",
              "      <td>arts_and_craftmanship</td>\n",
              "      <td>19</td>\n",
              "    </tr>\n",
              "    <tr>\n",
              "      <th>47</th>\n",
              "      <td>audio</td>\n",
              "      <td>58</td>\n",
              "    </tr>\n",
              "    <tr>\n",
              "      <th>...</th>\n",
              "      <td>...</td>\n",
              "      <td>...</td>\n",
              "    </tr>\n",
              "    <tr>\n",
              "      <th>12</th>\n",
              "      <td>stationery</td>\n",
              "      <td>849</td>\n",
              "    </tr>\n",
              "    <tr>\n",
              "      <th>67</th>\n",
              "      <td>tablets_printing_image</td>\n",
              "      <td>9</td>\n",
              "    </tr>\n",
              "    <tr>\n",
              "      <th>9</th>\n",
              "      <td>telephony</td>\n",
              "      <td>1134</td>\n",
              "    </tr>\n",
              "    <tr>\n",
              "      <th>7</th>\n",
              "      <td>toys</td>\n",
              "      <td>1411</td>\n",
              "    </tr>\n",
              "    <tr>\n",
              "      <th>8</th>\n",
              "      <td>watches_gifts</td>\n",
              "      <td>1329</td>\n",
              "    </tr>\n",
              "  </tbody>\n",
              "</table>\n",
              "<p>73 rows × 2 columns</p>\n",
              "</div>"
            ],
            "text/plain": [
              "                         index  product_category_name\n",
              "44  agro_industry_and_commerce                     74\n",
              "29            air_conditioning                    124\n",
              "48                         art                     55\n",
              "61       arts_and_craftmanship                     19\n",
              "47                       audio                     58\n",
              "..                         ...                    ...\n",
              "12                  stationery                    849\n",
              "67      tablets_printing_image                      9\n",
              "9                    telephony                   1134\n",
              "7                         toys                   1411\n",
              "8                watches_gifts                   1329\n",
              "\n",
              "[73 rows x 2 columns]"
            ]
          },
          "execution_count": 22,
          "metadata": {},
          "output_type": "execute_result"
        }
      ],
      "source": [
        "#Tabel Produk: Identifikasi Inconsistent Format\n",
        "pd.DataFrame(products['product_category_name'].value_counts()).head(73).reset_index().sort_values(by='index')"
      ]
    },
    {
      "cell_type": "code",
      "execution_count": null,
      "id": "cb3aed7b",
      "metadata": {
        "id": "cb3aed7b",
        "outputId": "2ca069e1-9942-40bd-b235-d0cee003da9e"
      },
      "outputs": [
        {
          "data": {
            "text/plain": [
              "order_id               0\n",
              "order_item_id          0\n",
              "product_id             0\n",
              "seller_id              0\n",
              "shipping_limit_date    0\n",
              "price                  0\n",
              "freight_value          0\n",
              "dtype: int64"
            ]
          },
          "execution_count": 24,
          "metadata": {},
          "output_type": "execute_result"
        }
      ],
      "source": [
        "#Tabel Item: Identifikasi Missing Value\n",
        "order_item.isna().sum()"
      ]
    },
    {
      "cell_type": "code",
      "execution_count": null,
      "id": "9ab18fbc",
      "metadata": {
        "id": "9ab18fbc",
        "outputId": "e465c6f4-2c32-46e5-ea4e-558cd8f5da4d"
      },
      "outputs": [
        {
          "name": "stdout",
          "output_type": "stream",
          "text": [
            "<class 'pandas.core.frame.DataFrame'>\n",
            "RangeIndex: 112650 entries, 0 to 112649\n",
            "Data columns (total 7 columns):\n",
            " #   Column               Non-Null Count   Dtype  \n",
            "---  ------               --------------   -----  \n",
            " 0   order_id             112650 non-null  object \n",
            " 1   order_item_id        112650 non-null  int64  \n",
            " 2   product_id           112650 non-null  object \n",
            " 3   seller_id            112650 non-null  object \n",
            " 4   shipping_limit_date  112650 non-null  object \n",
            " 5   price                112650 non-null  float64\n",
            " 6   freight_value        112650 non-null  float64\n",
            "dtypes: float64(2), int64(1), object(4)\n",
            "memory usage: 6.0+ MB\n"
          ]
        }
      ],
      "source": [
        "#Tabel Item: Identifikasi Inconsistent Format\n",
        "order_item.info()"
      ]
    },
    {
      "cell_type": "code",
      "execution_count": null,
      "id": "a7f9d679",
      "metadata": {
        "id": "a7f9d679",
        "outputId": "55749d0b-0b3b-4456-ea05-9a74daaa9648"
      },
      "outputs": [
        {
          "data": {
            "text/plain": [
              "False"
            ]
          },
          "execution_count": 27,
          "metadata": {},
          "output_type": "execute_result"
        }
      ],
      "source": [
        "#Tabel Item: Identifikasi Data Duplicate\n",
        "order_item.duplicated().any()"
      ]
    },
    {
      "cell_type": "code",
      "execution_count": null,
      "id": "df9c0e0c",
      "metadata": {
        "id": "df9c0e0c",
        "outputId": "0aa65d97-bc28-4a46-fe8f-86eefb3aceaa"
      },
      "outputs": [
        {
          "data": {
            "text/plain": [
              "order_id                         99441\n",
              "customer_id                      99441\n",
              "order_status                         8\n",
              "order_purchase_timestamp         98875\n",
              "order_approved_at                90733\n",
              "order_delivered_carrier_date     81018\n",
              "order_delivered_customer_date    95664\n",
              "order_estimated_delivery_date      459\n",
              "dtype: int64"
            ]
          },
          "execution_count": 28,
          "metadata": {},
          "output_type": "execute_result"
        }
      ],
      "source": [
        "#Tabel Order: Identifikasi Inconsistent Format\n",
        "order.nunique()"
      ]
    },
    {
      "cell_type": "code",
      "execution_count": null,
      "id": "12807d26",
      "metadata": {
        "id": "12807d26",
        "outputId": "3d558a72-9f86-492f-9092-f76ef08eb48e"
      },
      "outputs": [
        {
          "data": {
            "text/plain": [
              "array(['delivered', 'invoiced', 'shipped', 'processing', 'unavailable',\n",
              "       'canceled', 'created', 'approved'], dtype=object)"
            ]
          },
          "execution_count": 29,
          "metadata": {},
          "output_type": "execute_result"
        }
      ],
      "source": [
        "order['order_status'].unique()"
      ]
    },
    {
      "cell_type": "code",
      "execution_count": null,
      "id": "e56e71d6",
      "metadata": {
        "id": "e56e71d6",
        "outputId": "d2174cdc-e8cb-44fb-df23-44d944c58045"
      },
      "outputs": [
        {
          "data": {
            "text/plain": [
              "False"
            ]
          },
          "execution_count": 30,
          "metadata": {},
          "output_type": "execute_result"
        }
      ],
      "source": [
        "#Tabel Order: Identifikasi Duplicate Data\n",
        "order.duplicated().any()"
      ]
    },
    {
      "cell_type": "code",
      "execution_count": null,
      "id": "6d960f2d",
      "metadata": {
        "id": "6d960f2d",
        "outputId": "695f8377-81b8-498d-c926-915df466df09"
      },
      "outputs": [
        {
          "data": {
            "text/plain": [
              "order_id                            0\n",
              "customer_id                         0\n",
              "order_status                        0\n",
              "order_purchase_timestamp            0\n",
              "order_approved_at                 160\n",
              "order_delivered_carrier_date     1783\n",
              "order_delivered_customer_date    2965\n",
              "order_estimated_delivery_date       0\n",
              "dtype: int64"
            ]
          },
          "execution_count": 31,
          "metadata": {},
          "output_type": "execute_result"
        }
      ],
      "source": [
        "#Tabel Order: Identifikasi Missing Value\n",
        "order.isna().sum()"
      ]
    },
    {
      "cell_type": "code",
      "execution_count": null,
      "id": "d1a78ee5",
      "metadata": {
        "id": "d1a78ee5",
        "outputId": "f70ade16-3621-4440-d0b8-671e7399f852"
      },
      "outputs": [
        {
          "data": {
            "text/plain": [
              "order_id                         2963\n",
              "customer_id                      2963\n",
              "order_status                     2963\n",
              "order_purchase_timestamp         2963\n",
              "order_approved_at                2817\n",
              "order_delivered_carrier_date     1182\n",
              "order_delivered_customer_date       6\n",
              "order_estimated_delivery_date    2963\n",
              "dtype: int64"
            ]
          },
          "execution_count": 32,
          "metadata": {},
          "output_type": "execute_result"
        }
      ],
      "source": [
        "order[order.order_status != 'delivered'].count()\n"
      ]
    },
    {
      "cell_type": "code",
      "execution_count": null,
      "id": "608ee5f8",
      "metadata": {
        "id": "608ee5f8",
        "outputId": "aee7fb9e-705d-4c45-f115-48113f206e49"
      },
      "outputs": [
        {
          "data": {
            "text/plain": [
              "order_id                         96455\n",
              "customer_id                      96455\n",
              "order_status                         1\n",
              "order_purchase_timestamp         95933\n",
              "order_approved_at                88266\n",
              "order_delivered_carrier_date     80094\n",
              "order_delivered_customer_date    95643\n",
              "order_estimated_delivery_date      445\n",
              "dtype: int64"
            ]
          },
          "execution_count": 33,
          "metadata": {},
          "output_type": "execute_result"
        }
      ],
      "source": [
        "order = order.dropna()\n",
        "order = order[order['order_status']=='delivered']\n",
        "order.nunique()"
      ]
    },
    {
      "cell_type": "code",
      "execution_count": null,
      "id": "9e7a144e",
      "metadata": {
        "id": "9e7a144e",
        "outputId": "d3dab8f2-f301-4de8-a0bd-2a689d116a6b"
      },
      "outputs": [
        {
          "name": "stdout",
          "output_type": "stream",
          "text": [
            "<class 'pandas.core.frame.DataFrame'>\n",
            "Int64Index: 96455 entries, 0 to 99440\n",
            "Data columns (total 8 columns):\n",
            " #   Column                         Non-Null Count  Dtype \n",
            "---  ------                         --------------  ----- \n",
            " 0   order_id                       96455 non-null  object\n",
            " 1   customer_id                    96455 non-null  object\n",
            " 2   order_status                   96455 non-null  object\n",
            " 3   order_purchase_timestamp       96455 non-null  object\n",
            " 4   order_approved_at              96455 non-null  object\n",
            " 5   order_delivered_carrier_date   96455 non-null  object\n",
            " 6   order_delivered_customer_date  96455 non-null  object\n",
            " 7   order_estimated_delivery_date  96455 non-null  object\n",
            "dtypes: object(8)\n",
            "memory usage: 6.6+ MB\n"
          ]
        }
      ],
      "source": [
        "#Tabel Order: Dates Data\n",
        "order.info()"
      ]
    },
    {
      "cell_type": "code",
      "execution_count": null,
      "id": "e86f753a",
      "metadata": {
        "id": "e86f753a",
        "outputId": "7db0d7ae-0534-4887-f975-5da3caa8b69c"
      },
      "outputs": [
        {
          "name": "stdout",
          "output_type": "stream",
          "text": [
            "<class 'pandas.core.frame.DataFrame'>\n",
            "Int64Index: 96455 entries, 0 to 99440\n",
            "Data columns (total 8 columns):\n",
            " #   Column                         Non-Null Count  Dtype         \n",
            "---  ------                         --------------  -----         \n",
            " 0   order_id                       96455 non-null  object        \n",
            " 1   customer_id                    96455 non-null  object        \n",
            " 2   order_status                   96455 non-null  object        \n",
            " 3   order_purchase_timestamp       96455 non-null  datetime64[ns]\n",
            " 4   order_approved_at              96455 non-null  datetime64[ns]\n",
            " 5   order_delivered_carrier_date   96455 non-null  datetime64[ns]\n",
            " 6   order_delivered_customer_date  96455 non-null  datetime64[ns]\n",
            " 7   order_estimated_delivery_date  96455 non-null  datetime64[ns]\n",
            "dtypes: datetime64[ns](5), object(3)\n",
            "memory usage: 6.6+ MB\n"
          ]
        }
      ],
      "source": [
        "order[['order_purchase_timestamp',\n",
        "      'order_approved_at',\n",
        "      'order_delivered_carrier_date',\n",
        "      'order_delivered_customer_date',\n",
        "      'order_estimated_delivery_date']] = order[['order_purchase_timestamp',\n",
        "                                                'order_approved_at',\n",
        "                                                'order_delivered_carrier_date',\n",
        "                                                'order_delivered_customer_date',\n",
        "                                                'order_estimated_delivery_date']].apply(pd.to_datetime)\n",
        "order.info()"
      ]
    },
    {
      "cell_type": "code",
      "execution_count": null,
      "id": "52d9f389",
      "metadata": {
        "id": "52d9f389",
        "outputId": "42896be4-9202-4e32-d686-3336013569a4"
      },
      "outputs": [
        {
          "data": {
            "text/html": [
              "<div>\n",
              "<style scoped>\n",
              "    .dataframe tbody tr th:only-of-type {\n",
              "        vertical-align: middle;\n",
              "    }\n",
              "\n",
              "    .dataframe tbody tr th {\n",
              "        vertical-align: top;\n",
              "    }\n",
              "\n",
              "    .dataframe thead th {\n",
              "        text-align: right;\n",
              "    }\n",
              "</style>\n",
              "<table border=\"1\" class=\"dataframe\">\n",
              "  <thead>\n",
              "    <tr style=\"text-align: right;\">\n",
              "      <th></th>\n",
              "      <th>order_id</th>\n",
              "      <th>customer_id</th>\n",
              "      <th>order_delivered_customer_date</th>\n",
              "    </tr>\n",
              "  </thead>\n",
              "  <tbody>\n",
              "    <tr>\n",
              "      <th>0</th>\n",
              "      <td>e481f51cbdc54678b7cc49136f2d6af7</td>\n",
              "      <td>9ef432eb6251297304e76186b10a928d</td>\n",
              "      <td>2017-10-10 21:25:13</td>\n",
              "    </tr>\n",
              "    <tr>\n",
              "      <th>1</th>\n",
              "      <td>53cdb2fc8bc7dce0b6741e2150273451</td>\n",
              "      <td>b0830fb4747a6c6d20dea0b8c802d7ef</td>\n",
              "      <td>2018-08-07 15:27:45</td>\n",
              "    </tr>\n",
              "    <tr>\n",
              "      <th>2</th>\n",
              "      <td>47770eb9100c2d0c44946d9cf07ec65d</td>\n",
              "      <td>41ce2a54c0b03bf3443c3d931a367089</td>\n",
              "      <td>2018-08-17 18:06:29</td>\n",
              "    </tr>\n",
              "    <tr>\n",
              "      <th>3</th>\n",
              "      <td>949d5b44dbf5de918fe9c16f97b45f8a</td>\n",
              "      <td>f88197465ea7920adcdbec7375364d82</td>\n",
              "      <td>2017-12-02 00:28:42</td>\n",
              "    </tr>\n",
              "    <tr>\n",
              "      <th>4</th>\n",
              "      <td>ad21c59c0840e6cb83a9ceb5573f8159</td>\n",
              "      <td>8ab97904e6daea8866dbdbc4fb7aad2c</td>\n",
              "      <td>2018-02-16 18:17:02</td>\n",
              "    </tr>\n",
              "    <tr>\n",
              "      <th>...</th>\n",
              "      <td>...</td>\n",
              "      <td>...</td>\n",
              "      <td>...</td>\n",
              "    </tr>\n",
              "    <tr>\n",
              "      <th>99436</th>\n",
              "      <td>9c5dedf39a927c1b2549525ed64a053c</td>\n",
              "      <td>39bd1228ee8140590ac3aca26f2dfe00</td>\n",
              "      <td>2017-03-17 15:08:01</td>\n",
              "    </tr>\n",
              "    <tr>\n",
              "      <th>99437</th>\n",
              "      <td>63943bddc261676b46f01ca7ac2f7bd8</td>\n",
              "      <td>1fca14ff2861355f6e5f14306ff977a7</td>\n",
              "      <td>2018-02-28 17:37:56</td>\n",
              "    </tr>\n",
              "    <tr>\n",
              "      <th>99438</th>\n",
              "      <td>83c1379a015df1e13d02aae0204711ab</td>\n",
              "      <td>1aa71eb042121263aafbe80c1b562c9c</td>\n",
              "      <td>2017-09-21 11:24:17</td>\n",
              "    </tr>\n",
              "    <tr>\n",
              "      <th>99439</th>\n",
              "      <td>11c177c8e97725db2631073c19f07b62</td>\n",
              "      <td>b331b74b18dc79bcdf6532d51e1637c1</td>\n",
              "      <td>2018-01-25 23:32:54</td>\n",
              "    </tr>\n",
              "    <tr>\n",
              "      <th>99440</th>\n",
              "      <td>66dea50a8b16d9b4dee7af250b4be1a5</td>\n",
              "      <td>edb027a75a1449115f6b43211ae02a24</td>\n",
              "      <td>2018-03-16 13:08:30</td>\n",
              "    </tr>\n",
              "  </tbody>\n",
              "</table>\n",
              "<p>96455 rows × 3 columns</p>\n",
              "</div>"
            ],
            "text/plain": [
              "                               order_id                       customer_id  \\\n",
              "0      e481f51cbdc54678b7cc49136f2d6af7  9ef432eb6251297304e76186b10a928d   \n",
              "1      53cdb2fc8bc7dce0b6741e2150273451  b0830fb4747a6c6d20dea0b8c802d7ef   \n",
              "2      47770eb9100c2d0c44946d9cf07ec65d  41ce2a54c0b03bf3443c3d931a367089   \n",
              "3      949d5b44dbf5de918fe9c16f97b45f8a  f88197465ea7920adcdbec7375364d82   \n",
              "4      ad21c59c0840e6cb83a9ceb5573f8159  8ab97904e6daea8866dbdbc4fb7aad2c   \n",
              "...                                 ...                               ...   \n",
              "99436  9c5dedf39a927c1b2549525ed64a053c  39bd1228ee8140590ac3aca26f2dfe00   \n",
              "99437  63943bddc261676b46f01ca7ac2f7bd8  1fca14ff2861355f6e5f14306ff977a7   \n",
              "99438  83c1379a015df1e13d02aae0204711ab  1aa71eb042121263aafbe80c1b562c9c   \n",
              "99439  11c177c8e97725db2631073c19f07b62  b331b74b18dc79bcdf6532d51e1637c1   \n",
              "99440  66dea50a8b16d9b4dee7af250b4be1a5  edb027a75a1449115f6b43211ae02a24   \n",
              "\n",
              "      order_delivered_customer_date  \n",
              "0               2017-10-10 21:25:13  \n",
              "1               2018-08-07 15:27:45  \n",
              "2               2018-08-17 18:06:29  \n",
              "3               2017-12-02 00:28:42  \n",
              "4               2018-02-16 18:17:02  \n",
              "...                             ...  \n",
              "99436           2017-03-17 15:08:01  \n",
              "99437           2018-02-28 17:37:56  \n",
              "99438           2017-09-21 11:24:17  \n",
              "99439           2018-01-25 23:32:54  \n",
              "99440           2018-03-16 13:08:30  \n",
              "\n",
              "[96455 rows x 3 columns]"
            ]
          },
          "execution_count": 36,
          "metadata": {},
          "output_type": "execute_result"
        }
      ],
      "source": [
        "order = order[['order_id','customer_id','order_delivered_customer_date']]\n",
        "order"
      ]
    },
    {
      "cell_type": "code",
      "execution_count": null,
      "id": "7bb24dac",
      "metadata": {
        "id": "7bb24dac",
        "outputId": "b81293b2-4806-4b17-bf5e-62acca1eaed9"
      },
      "outputs": [
        {
          "data": {
            "text/plain": [
              "order_id                0\n",
              "payment_sequential      0\n",
              "payment_type            0\n",
              "payment_installments    0\n",
              "payment_value           0\n",
              "dtype: int64"
            ]
          },
          "execution_count": 37,
          "metadata": {},
          "output_type": "execute_result"
        }
      ],
      "source": [
        "#Tabel Payment: Identifikasi Missing Value\n",
        "payments.isna().sum()"
      ]
    },
    {
      "cell_type": "code",
      "execution_count": null,
      "id": "6e1f37a3",
      "metadata": {
        "id": "6e1f37a3",
        "outputId": "7428ebf2-d9d1-4adb-8940-40f05e30827d"
      },
      "outputs": [
        {
          "data": {
            "text/plain": [
              "order_id                99440\n",
              "payment_sequential         29\n",
              "payment_type                5\n",
              "payment_installments       24\n",
              "payment_value           29077\n",
              "dtype: int64"
            ]
          },
          "execution_count": 38,
          "metadata": {},
          "output_type": "execute_result"
        }
      ],
      "source": [
        "#Tabel Payment: Identifikasi Inconsistent Format\n",
        "payments.nunique()"
      ]
    },
    {
      "cell_type": "code",
      "execution_count": null,
      "id": "bc2ad688",
      "metadata": {
        "id": "bc2ad688",
        "outputId": "fc1c46b2-078d-4f24-83d9-3554d508b30d"
      },
      "outputs": [
        {
          "data": {
            "text/plain": [
              "array([ 1,  2,  4,  5,  3,  8,  6,  7, 10, 11, 17, 19, 27, 12,  9, 15, 13,\n",
              "       14, 16, 25, 22, 26, 29, 28, 18, 21, 24, 23, 20])"
            ]
          },
          "execution_count": 39,
          "metadata": {},
          "output_type": "execute_result"
        }
      ],
      "source": [
        "payments['payment_sequential'].unique()\n"
      ]
    },
    {
      "cell_type": "code",
      "execution_count": null,
      "id": "f7e9a56d",
      "metadata": {
        "id": "f7e9a56d",
        "outputId": "8b513ef7-a57e-41ea-9bc4-9f97a498a2e2"
      },
      "outputs": [
        {
          "data": {
            "text/plain": [
              "array(['credit_card', 'boleto', 'voucher', 'debit_card', 'not_defined'],\n",
              "      dtype=object)"
            ]
          },
          "execution_count": 40,
          "metadata": {},
          "output_type": "execute_result"
        }
      ],
      "source": [
        "payments['payment_type'].unique()\n"
      ]
    },
    {
      "cell_type": "code",
      "execution_count": null,
      "id": "ba43fd4b",
      "metadata": {
        "id": "ba43fd4b",
        "outputId": "22f2998e-4c58-4ac0-bf98-d961e88bef8c"
      },
      "outputs": [
        {
          "data": {
            "text/plain": [
              "array([ 8,  1,  2,  3,  6,  5,  4, 10,  7, 12,  9, 13, 15, 24, 11, 18, 14,\n",
              "       20, 21, 17, 22,  0, 16, 23])"
            ]
          },
          "execution_count": 41,
          "metadata": {},
          "output_type": "execute_result"
        }
      ],
      "source": [
        "payments['payment_installments'].unique()\n"
      ]
    },
    {
      "cell_type": "code",
      "execution_count": null,
      "id": "4846517f",
      "metadata": {
        "id": "4846517f",
        "outputId": "285dc97c-ee04-4610-c6ef-031959ce346a"
      },
      "outputs": [
        {
          "data": {
            "text/plain": [
              "False"
            ]
          },
          "execution_count": 42,
          "metadata": {},
          "output_type": "execute_result"
        }
      ],
      "source": [
        "#Tabel Payment: Identifikasi Data Duplicated\n",
        "payments.duplicated().any()"
      ]
    },
    {
      "cell_type": "code",
      "execution_count": null,
      "id": "3460662a",
      "metadata": {
        "id": "3460662a",
        "outputId": "ec246c37-49d7-4d7e-f8ef-f5d59743666a"
      },
      "outputs": [
        {
          "name": "stdout",
          "output_type": "stream",
          "text": [
            "<class 'pandas.core.frame.DataFrame'>\n",
            "RangeIndex: 103886 entries, 0 to 103885\n",
            "Data columns (total 5 columns):\n",
            " #   Column                Non-Null Count   Dtype  \n",
            "---  ------                --------------   -----  \n",
            " 0   order_id              103886 non-null  object \n",
            " 1   payment_sequential    103886 non-null  int64  \n",
            " 2   payment_type          103886 non-null  object \n",
            " 3   payment_installments  103886 non-null  int64  \n",
            " 4   payment_value         103886 non-null  float64\n",
            "dtypes: float64(1), int64(2), object(2)\n",
            "memory usage: 4.0+ MB\n"
          ]
        }
      ],
      "source": [
        "payments.info()"
      ]
    },
    {
      "cell_type": "code",
      "execution_count": null,
      "id": "cd84ee7f",
      "metadata": {
        "id": "cd84ee7f",
        "outputId": "5bead66b-e2e9-402b-aa49-3b80dcf4a683"
      },
      "outputs": [
        {
          "data": {
            "text/plain": [
              "customers_id                0\n",
              "customers_uniq_id           0\n",
              "customer_zip_code_prefix    0\n",
              "customer_city               0\n",
              "customer_state              0\n",
              "dtype: int64"
            ]
          },
          "execution_count": 45,
          "metadata": {},
          "output_type": "execute_result"
        }
      ],
      "source": [
        "#Tabel Customer: Identifikasi Missing Value\n",
        "cust.isna().sum()"
      ]
    },
    {
      "cell_type": "code",
      "execution_count": null,
      "id": "4056b64f",
      "metadata": {
        "id": "4056b64f",
        "outputId": "6b51ae5c-62a0-4ec7-b387-177dac3da0ce"
      },
      "outputs": [
        {
          "data": {
            "text/plain": [
              "customers_id                99441\n",
              "customers_uniq_id           96096\n",
              "customer_zip_code_prefix    14994\n",
              "customer_city                4119\n",
              "customer_state                 27\n",
              "dtype: int64"
            ]
          },
          "execution_count": 46,
          "metadata": {},
          "output_type": "execute_result"
        }
      ],
      "source": [
        "#Tabel Customer: Identifikasi Inconsistent Format\n",
        "cust.nunique()"
      ]
    },
    {
      "cell_type": "code",
      "execution_count": null,
      "id": "f5e61e58",
      "metadata": {
        "id": "f5e61e58",
        "outputId": "a1cf6307-cec1-497e-9017-7432d81b550e"
      },
      "outputs": [
        {
          "data": {
            "text/plain": [
              "['franca',\n",
              " 'sao bernardo do campo',\n",
              " 'sao paulo',\n",
              " 'mogi das cruzes',\n",
              " 'campinas',\n",
              " 'jaragua do sul',\n",
              " 'timoteo',\n",
              " 'curitiba',\n",
              " 'belo horizonte',\n",
              " 'montes claros',\n",
              " 'rio de janeiro',\n",
              " 'lencois paulista',\n",
              " 'caxias do sul',\n",
              " 'piracicaba',\n",
              " 'guarulhos',\n",
              " 'pacaja',\n",
              " 'florianopolis',\n",
              " 'aparecida de goiania',\n",
              " 'santo andre',\n",
              " 'goiania',\n",
              " 'cachoeiro de itapemirim',\n",
              " 'sao jose dos campos',\n",
              " 'sao roque',\n",
              " 'camacari',\n",
              " 'resende',\n",
              " 'sumare',\n",
              " 'novo hamburgo',\n",
              " 'sao luis',\n",
              " 'sao jose',\n",
              " 'santa barbara',\n",
              " 'ribeirao preto',\n",
              " 'ituiutaba',\n",
              " 'taquarituba',\n",
              " 'sao jose dos pinhais',\n",
              " 'barrinha',\n",
              " 'parati',\n",
              " 'dourados',\n",
              " 'trindade',\n",
              " 'cascavel',\n",
              " 'fortaleza',\n",
              " 'brasilia',\n",
              " 'pelotas',\n",
              " 'porto alegre',\n",
              " 'salto',\n",
              " 'jundiai',\n",
              " 'cacapava',\n",
              " 'sao vicente',\n",
              " 'uberlandia',\n",
              " 'botelhos',\n",
              " 'sao goncalo',\n",
              " 'araucaria',\n",
              " 'nova iguacu',\n",
              " 'areia branca',\n",
              " 'campos dos goytacazes',\n",
              " 'sao carlos',\n",
              " 'itajuba',\n",
              " 'cruz das almas',\n",
              " 'vassouras',\n",
              " 'feira de santana',\n",
              " 'niteroi',\n",
              " 'sobral',\n",
              " 'divinopolis',\n",
              " 'paraiba do sul',\n",
              " 'paulista',\n",
              " 'carapicuiba',\n",
              " 'bom principio',\n",
              " 'astolfo dutra',\n",
              " 'marialva',\n",
              " 'sao jose do rio preto',\n",
              " 'cabo frio',\n",
              " 'contagem',\n",
              " 'cafeara',\n",
              " 'sao joaquim da barra',\n",
              " 'foz do iguacu',\n",
              " 'suzano',\n",
              " 'timbo',\n",
              " 'camboriu',\n",
              " 'nova bassano',\n",
              " 'rio grande',\n",
              " 'braganca paulista',\n",
              " 'barra do garcas',\n",
              " 'embu',\n",
              " 'urussanga',\n",
              " 'silvianopolis',\n",
              " 'gameleiras',\n",
              " 'belem',\n",
              " 'pocos de caldas',\n",
              " 'santos',\n",
              " 'piracaia',\n",
              " 'sinop',\n",
              " 'guaruja',\n",
              " 'barueri',\n",
              " 'feliz',\n",
              " 'jambeiro',\n",
              " 'ipatinga',\n",
              " 'tupa',\n",
              " 'blumenau',\n",
              " 'moncoes',\n",
              " 'balneario camboriu',\n",
              " 'vargem grande',\n",
              " 'rio brilhante',\n",
              " 'eugenopolis',\n",
              " 'paulinia',\n",
              " 'apucarana',\n",
              " 'recife',\n",
              " 'osasco',\n",
              " 'valinhos',\n",
              " 'manaus',\n",
              " 'cidreira',\n",
              " 'santiago',\n",
              " 'sao sepe',\n",
              " 'alta floresta',\n",
              " 'jaboatao dos guararapes',\n",
              " 'ibatiba',\n",
              " 'hortolandia',\n",
              " 'cotia',\n",
              " 'macae',\n",
              " 'saudades',\n",
              " 'macapa',\n",
              " 'salto de pirapora',\n",
              " 'taboao da serra',\n",
              " 'bom jesus',\n",
              " 'santa cruz do rio pardo',\n",
              " 'diadema',\n",
              " 'santa ines',\n",
              " 'serrinha',\n",
              " 'votorantim',\n",
              " 'itatiaia',\n",
              " 'duque de caxias',\n",
              " 'varre-sai',\n",
              " 'vila velha',\n",
              " 'mangaratiba',\n",
              " 'atibaia',\n",
              " 'salvador',\n",
              " 'maceio',\n",
              " 'birigui',\n",
              " 'petropolis',\n",
              " 'sao pedro',\n",
              " 'jaguariaiva',\n",
              " 'franco da rocha',\n",
              " 'pindamonhangaba',\n",
              " 'irati',\n",
              " 'ribeira',\n",
              " 'barbacena',\n",
              " 'limoeiro',\n",
              " 'espigao do oeste',\n",
              " 'belford roxo',\n",
              " 'coronel fabriciano',\n",
              " 'itanhaem',\n",
              " 'bebedouro',\n",
              " 'americana',\n",
              " 'uba',\n",
              " 'arapongas',\n",
              " 'vinhedo',\n",
              " 'itajai',\n",
              " 'bauru',\n",
              " 'pradopolis',\n",
              " 'aripuana',\n",
              " 'guaratinga',\n",
              " 'ponta pora',\n",
              " 'aracatuba',\n",
              " 'volta redonda',\n",
              " 'maringa',\n",
              " 'araraquara',\n",
              " 'matipo',\n",
              " 'santo antonio da patrulha',\n",
              " 'barra mansa',\n",
              " 'diamantina',\n",
              " 'mairinque',\n",
              " 'capitao leonidas marques',\n",
              " 'sao sebastiao do paraiso',\n",
              " 'rosario do sul',\n",
              " 'itaguai',\n",
              " 'paraopeba',\n",
              " 'guarapuava',\n",
              " 'crisolita',\n",
              " 'pirai',\n",
              " 'linhares',\n",
              " 'agudos',\n",
              " 'sao joao de meriti',\n",
              " 'navegantes',\n",
              " 'pirassununga',\n",
              " 'faxinal dos guedes',\n",
              " 'criciuma',\n",
              " 'nova venecia',\n",
              " 'passo fundo',\n",
              " 'ibia',\n",
              " 'manhuacu',\n",
              " 'altamira',\n",
              " 'aperibe',\n",
              " 'cuiaba',\n",
              " 'canoas',\n",
              " 'cubatao',\n",
              " 'campo limpo paulista',\n",
              " 'cambe',\n",
              " 'itaquaquecetuba',\n",
              " 'sao caetano do sul',\n",
              " 'sao goncalo do rio abaixo',\n",
              " 'rolandia',\n",
              " 'tres coracoes',\n",
              " 'cacapava do sul',\n",
              " 'sao joao nepomuceno',\n",
              " 'leme',\n",
              " 'araras',\n",
              " 'cortes',\n",
              " 'brusque',\n",
              " 'montenegro',\n",
              " 'itaberai',\n",
              " 'santa rosa de viterbo',\n",
              " 'agua fria de goias',\n",
              " 'marau',\n",
              " 'curvelo',\n",
              " 'juiz de fora',\n",
              " 'mogi-guacu',\n",
              " 'guaratingueta',\n",
              " 'paranagua',\n",
              " 'lins',\n",
              " 'campo bom',\n",
              " 'sertaozinho',\n",
              " 'tres lagoas',\n",
              " 'jau',\n",
              " 'campos de julio',\n",
              " 'saquarema',\n",
              " 'artur nogueira',\n",
              " 'uaua',\n",
              " 'jandira',\n",
              " 'concordia',\n",
              " 'nova friburgo',\n",
              " 'sorocaba',\n",
              " 'ponte nova',\n",
              " 'araquari',\n",
              " 'muriae',\n",
              " 'nova lima',\n",
              " 'inhumas',\n",
              " 'italva',\n",
              " 'tres rios',\n",
              " 'santa maria',\n",
              " 'itagiba',\n",
              " 'paracatu',\n",
              " 'xaxim',\n",
              " 'laranjeiras do sul',\n",
              " 'itapiuna',\n",
              " 'formosa',\n",
              " 'ivoti',\n",
              " 'juazeiro',\n",
              " 'ponta grossa',\n",
              " 'campina grande',\n",
              " 'maua',\n",
              " 'salgueiro',\n",
              " 'lorena',\n",
              " 'toledo',\n",
              " 'sao pedro da aldeia',\n",
              " 'vianopolis',\n",
              " 'arapiraca',\n",
              " 'porto seguro',\n",
              " 'ariquemes',\n",
              " 'presidente getulio',\n",
              " 'rio negro',\n",
              " 'ribeirao pires',\n",
              " 'sao jose da coroa grande',\n",
              " 'agua doce do norte',\n",
              " 'anapolis',\n",
              " 'guararapes',\n",
              " 'farroupilha',\n",
              " 'almenara',\n",
              " 'rio das ostras',\n",
              " 'gravatai',\n",
              " 'brumado',\n",
              " 'marilia',\n",
              " 'itabira',\n",
              " 'claudia',\n",
              " 'para de minas',\n",
              " 'miguelopolis',\n",
              " 'terra roxa',\n",
              " 'araguari',\n",
              " 'lages',\n",
              " 'embu das artes',\n",
              " 'limeira',\n",
              " 'taubate',\n",
              " 'santa fe do sul',\n",
              " 'caieiras',\n",
              " 'carangola',\n",
              " 'chapada do norte',\n",
              " 'loanda',\n",
              " 'passa tres',\n",
              " 'aracoiaba da serra',\n",
              " 'itaborai',\n",
              " 'vitoria',\n",
              " 'sao bento do sul',\n",
              " 'indaiatuba',\n",
              " 'boituva',\n",
              " 'teresopolis',\n",
              " 'pinhalzinho',\n",
              " 'petrolina',\n",
              " 'natal',\n",
              " 'barreiras',\n",
              " 'januaria',\n",
              " 'ipiabas',\n",
              " 'firminopolis',\n",
              " 'joinville',\n",
              " 'mococa',\n",
              " 'valenca',\n",
              " 'sao miguel do oeste',\n",
              " 'jales',\n",
              " 'rio formoso',\n",
              " 'angra dos reis',\n",
              " 'alfredo chaves',\n",
              " 'itapetinga',\n",
              " 'gurupi',\n",
              " 'nucleo residencial pilar',\n",
              " 'coromandel',\n",
              " 'charqueada',\n",
              " 'itau de minas',\n",
              " 'ibiruba',\n",
              " 'bertioga',\n",
              " 'ipiau',\n",
              " 'matozinhos',\n",
              " 'teresina',\n",
              " 'entre rios',\n",
              " 'juina',\n",
              " 'mairipora',\n",
              " 'marechal candido rondon',\n",
              " 'avare',\n",
              " 'icem',\n",
              " 'sao sebastiao',\n",
              " 'serra',\n",
              " 'mirassol',\n",
              " 'taperuaba',\n",
              " 'alfenas',\n",
              " 'leopoldina',\n",
              " 'sao joao da boa vista',\n",
              " 'parnamirim',\n",
              " 'teixeira de freitas',\n",
              " 'joao pessoa',\n",
              " 'chacara',\n",
              " 'rio novo do sul',\n",
              " 'guapore',\n",
              " 'rio branco',\n",
              " 'ferraz de vasconcelos',\n",
              " 'petrolandia',\n",
              " 'araruna',\n",
              " 'gravata',\n",
              " 'alegre',\n",
              " 'londrina',\n",
              " 'senhor do bonfim',\n",
              " 'santana de parnaiba',\n",
              " 'piratininga',\n",
              " 'monte carmelo',\n",
              " 'ipiranga',\n",
              " 'jacarei',\n",
              " 'picos',\n",
              " 'una',\n",
              " 'taguai',\n",
              " 'peabiru',\n",
              " 'conquista',\n",
              " 'bicas',\n",
              " 'forquilha',\n",
              " 'guaicara',\n",
              " 'santa vitoria',\n",
              " 'adamantina',\n",
              " 'rio claro',\n",
              " 'sao jose de uba',\n",
              " 'sorriso',\n",
              " 'aracaju',\n",
              " 'conselheiro lafaiete',\n",
              " 'taguatinga',\n",
              " 'tiangua',\n",
              " 'paranaiba',\n",
              " 'david canabarro',\n",
              " 'itarare',\n",
              " 'cajueiro',\n",
              " 'cruzeiro',\n",
              " 'santa cruz do sul',\n",
              " 'presidente epitacio',\n",
              " 'castanhal',\n",
              " 'cariacica',\n",
              " 'bom jesus dos perdoes',\n",
              " 'urucurituba',\n",
              " 'olinda',\n",
              " 'sao jose do rio pardo',\n",
              " 'guapimirim',\n",
              " 'vargem grande paulista',\n",
              " 'chapeco',\n",
              " 'videira',\n",
              " 'canapi',\n",
              " 'pontal do parana',\n",
              " 'bento goncalves',\n",
              " 'caceres',\n",
              " 'bituruna',\n",
              " 'sao bento do sapucai',\n",
              " 'mage',\n",
              " 'forquilhinha',\n",
              " 'itaberaba',\n",
              " 'gramado',\n",
              " 'guacui',\n",
              " 'pato branco',\n",
              " 'itanhem',\n",
              " 'palmas',\n",
              " 'bage',\n",
              " 'francisco morato',\n",
              " 'cosmopolis',\n",
              " 'carmo',\n",
              " 'armacao dos buzios',\n",
              " 'santa maria da vitoria',\n",
              " 'pedro leopoldo',\n",
              " 'tres marias',\n",
              " 'santo antonio de padua',\n",
              " 'porto feliz',\n",
              " 'gaspar',\n",
              " 'palhoca',\n",
              " 'pouso alegre',\n",
              " 'guaiuba',\n",
              " 'fraiburgo',\n",
              " 'aurea',\n",
              " 'botucatu',\n",
              " 'corumba',\n",
              " 'cajamar',\n",
              " 'queimados',\n",
              " 'sao jorge do ivai',\n",
              " 'nova laranjeiras',\n",
              " 'guaxupe',\n",
              " 'osvaldo cruz',\n",
              " 'ivora',\n",
              " 'anaurilandia',\n",
              " 'caraguatatuba',\n",
              " 'regeneracao',\n",
              " 'bilac',\n",
              " 'faxinal',\n",
              " 'pedro velho',\n",
              " 'uberaba',\n",
              " 'viamao',\n",
              " 'cachoeira de minas',\n",
              " 'coelho neto',\n",
              " 'itajobi',\n",
              " 'carmo do rio claro',\n",
              " 'marica',\n",
              " 'campo novo do parecis',\n",
              " 'boa vista',\n",
              " 'ipameri',\n",
              " 'carlos barbosa',\n",
              " 'anicuns',\n",
              " 'rio bananal',\n",
              " 'lavras da mangabeira',\n",
              " 'balsamo',\n",
              " 'guariba',\n",
              " 'sao vendelino',\n",
              " 'campo mourao',\n",
              " 'aracati',\n",
              " 'santo antonio do descoberto',\n",
              " 'santo amaro da imperatriz',\n",
              " 'betim',\n",
              " 'vicosa',\n",
              " 'dom eliseu',\n",
              " 'campo largo',\n",
              " 'santa rosa de lima',\n",
              " 'quissama',\n",
              " 'mirandopolis',\n",
              " 'itapevi',\n",
              " 'francisco beltrao',\n",
              " \"dias d'avila\",\n",
              " 'novo horizonte',\n",
              " 'poa',\n",
              " 'querencia',\n",
              " 'campo grande',\n",
              " 'pedreira',\n",
              " 'pariquera-acu',\n",
              " 'itabaianinha',\n",
              " 'pitangui',\n",
              " 'araruama',\n",
              " 'campo formoso',\n",
              " 'guanambi',\n",
              " 'itapolis',\n",
              " 'pederneiras',\n",
              " 'itabirito',\n",
              " 'itaipava',\n",
              " 'arroio do sal',\n",
              " 'glaura',\n",
              " 'lagoa vermelha',\n",
              " 'mantena',\n",
              " 'peruibe',\n",
              " 'tubarao',\n",
              " 'bonfim',\n",
              " 'alvorada',\n",
              " 'patrocinio',\n",
              " 'mineiros',\n",
              " 'itabuna',\n",
              " 'tijucas',\n",
              " 'santo antonio de jesus',\n",
              " 'canarana',\n",
              " 'itapecerica da serra',\n",
              " 'nova prata do iguacu',\n",
              " 'treze tilias',\n",
              " 'anchieta',\n",
              " 'quatigua',\n",
              " 'iturama',\n",
              " 'tres de maio',\n",
              " 'santa rita do passa quatro',\n",
              " 'porto esperidiao',\n",
              " 'bonfim paulista',\n",
              " 'cajuru',\n",
              " 'cacador',\n",
              " 'paragominas',\n",
              " 'boa esperanca do sul',\n",
              " 'tres pontas',\n",
              " 'juazeiro do norte',\n",
              " 'bambui',\n",
              " 'comendador levy gasparian',\n",
              " 'sao miguel do aleixo',\n",
              " 'palmeira dos indios',\n",
              " 'cerquilho',\n",
              " 'saudade do iguacu',\n",
              " 'ipaussu',\n",
              " 'alto paraiso de goias',\n",
              " 'santa isabel',\n",
              " 'quirinopolis',\n",
              " 'caruaru',\n",
              " 'casimiro de abreu',\n",
              " 'chavantes',\n",
              " 'ecoporanga',\n",
              " 'cachoeira paulista',\n",
              " 'rio verde',\n",
              " 'maracanau',\n",
              " 'canoinhas',\n",
              " 'ituverava',\n",
              " 'buriti dos lopes',\n",
              " 'rio do antonio',\n",
              " 'guaranta',\n",
              " 'santa luzia',\n",
              " 'tucurui',\n",
              " 'paranavai',\n",
              " 'pinhais',\n",
              " 'governador valadares',\n",
              " 'trajano de moraes',\n",
              " 'caete',\n",
              " 'abaetetuba',\n",
              " 'lavras',\n",
              " 'coronel joao sa',\n",
              " 'divino',\n",
              " 'macaubas',\n",
              " 'lucelia',\n",
              " 'brejo da madre de deus',\n",
              " 'carai',\n",
              " 'corbelia',\n",
              " 'varginha',\n",
              " 'ouro preto',\n",
              " 'prado',\n",
              " 'colniza',\n",
              " 'piuma',\n",
              " 'rancharia',\n",
              " 'barretos',\n",
              " 'eunapolis',\n",
              " 'floresta',\n",
              " 'sao jose do norte',\n",
              " 'rio bonito',\n",
              " 'vargem bonita',\n",
              " 'monte mor',\n",
              " 'valente',\n",
              " 'balsas',\n",
              " 'nhandeara',\n",
              " 'lauro de freitas',\n",
              " 'osorio',\n",
              " 'machado',\n",
              " 'sao leopoldo',\n",
              " 'soledade',\n",
              " 'assis',\n",
              " 'guarapari',\n",
              " 'santo antonio do caiua',\n",
              " 'esteio',\n",
              " 'cambuci',\n",
              " 'campina grande do sul',\n",
              " 'baixo guandu',\n",
              " 'fernao',\n",
              " 'ibitinga',\n",
              " 'santa cruz das palmeiras',\n",
              " 'vila muriqui',\n",
              " 'sao mateus',\n",
              " 'piracuruca',\n",
              " 'cordeiro',\n",
              " 'cachoeira do sul',\n",
              " 'barra do pirai',\n",
              " 'castro',\n",
              " 'ico',\n",
              " 'sete lagoas',\n",
              " 'itumbiara',\n",
              " 'aluminio',\n",
              " 'jatai',\n",
              " 'frederico westphalen',\n",
              " 'goioere',\n",
              " 'sao jose da tapera',\n",
              " 'porto uniao',\n",
              " 'cocalinho',\n",
              " 'curitibanos',\n",
              " 'campos novos',\n",
              " 'ubatuba',\n",
              " 'monte santo de minas',\n",
              " 'ribeirao das neves',\n",
              " 'sao simao',\n",
              " 'urutai',\n",
              " 'itaobim',\n",
              " 'liberdade',\n",
              " 'arcos',\n",
              " 'ribeirao',\n",
              " 'patos de minas',\n",
              " 'penapolis',\n",
              " 'eusebio',\n",
              " 'cordeiros',\n",
              " 'victor graeff',\n",
              " 'santa rita do araguaia',\n",
              " 'poxoreu',\n",
              " 'ananas',\n",
              " 'conceicao dos ouros',\n",
              " 'alagoinhas',\n",
              " 'sao joao da barra',\n",
              " 'lindoia',\n",
              " 'bonfinopolis',\n",
              " 'ibiam',\n",
              " 'morungaba',\n",
              " 'andradina',\n",
              " 'tatui',\n",
              " 'mata verde',\n",
              " 'cornelio procopio',\n",
              " 'itapipoca',\n",
              " 'queluz',\n",
              " 'godoy moreira',\n",
              " 'iracemapolis',\n",
              " 'buritizeiro',\n",
              " 'xique-xique',\n",
              " 'uruacu',\n",
              " 'japi',\n",
              " 'itauna',\n",
              " 'sao francisco de assis',\n",
              " 'pitangueiras',\n",
              " 'ze doca',\n",
              " 'dracena',\n",
              " 'cachoeiras de macacu',\n",
              " 'barauna',\n",
              " 'formiga',\n",
              " 'rodeio',\n",
              " 'jequie',\n",
              " 'juvenilia',\n",
              " 'poco fundo',\n",
              " 'amparo',\n",
              " 'lauro muller',\n",
              " 'japeri',\n",
              " 'ourinhos',\n",
              " 'lagoa dos gatos',\n",
              " 'embu-guacu',\n",
              " 'nossa senhora do remedio',\n",
              " 'tambau',\n",
              " 'orlandia',\n",
              " 'bananeiras',\n",
              " 'sao joao do manhuacu',\n",
              " 'sarandi',\n",
              " 'congonhas',\n",
              " 'boa esperanca',\n",
              " 'sandolandia',\n",
              " 'garca',\n",
              " 'descalvado',\n",
              " 'guaracai',\n",
              " 'aruana',\n",
              " 'inga',\n",
              " 'taio',\n",
              " 'gaurama',\n",
              " 'praia grande',\n",
              " 'janauba',\n",
              " 'nova monte verde',\n",
              " 'mongagua',\n",
              " 'monte alto',\n",
              " 'sao joao do piaui',\n",
              " 'primavera do leste',\n",
              " 'seropedica',\n",
              " 'indaial',\n",
              " 'teofilo otoni',\n",
              " 'santa terezinha',\n",
              " 'planaltina',\n",
              " 'caravelas',\n",
              " 'muritiba',\n",
              " 'itatiba',\n",
              " 'piumhii',\n",
              " 'pitanga',\n",
              " 'capelinha',\n",
              " 'ipero',\n",
              " 'tarabai',\n",
              " 'aparecida do taboado',\n",
              " 'maioba',\n",
              " 'monnerat',\n",
              " 'sao lourenco do sul',\n",
              " 'biguacu',\n",
              " 'venda nova do imigrante',\n",
              " 'arapoti',\n",
              " 'fazenda rio grande',\n",
              " 'senges',\n",
              " 'aracruz',\n",
              " 'canela',\n",
              " 'porto franco',\n",
              " 'veranopolis',\n",
              " 'candiota',\n",
              " 'carmo do paranaiba',\n",
              " 'itacare',\n",
              " 'desembargador otoni',\n",
              " 'joanopolis',\n",
              " 'registro',\n",
              " 'ipiranga do norte',\n",
              " 'felipe guerra',\n",
              " 'dumont',\n",
              " 'itapetininga',\n",
              " 'bom despacho',\n",
              " 'lagoa santa',\n",
              " 'estacao',\n",
              " 'panorama',\n",
              " 'palmares',\n",
              " 'prata',\n",
              " 'santa adelia',\n",
              " 'iguaba grande',\n",
              " 'sarzedo',\n",
              " 'dourado',\n",
              " 'alcinopolis',\n",
              " 'limoeiro do norte',\n",
              " 'ibiraci',\n",
              " 'ilhabela',\n",
              " 'icara',\n",
              " 'paiva',\n",
              " 'batatais',\n",
              " 'formoso do araguaia',\n",
              " 'itapaci',\n",
              " 'fernandopolis',\n",
              " 'miguel pereira',\n",
              " 'tocos',\n",
              " 'campos do jordao',\n",
              " 'catalao',\n",
              " 'sao jose da lapa',\n",
              " 'marituba',\n",
              " 'arapora',\n",
              " 'turvo',\n",
              " 'rubiataba',\n",
              " 'guaruja do sul',\n",
              " 'pedra bela',\n",
              " 'perdizes',\n",
              " 'jesuania',\n",
              " 'antonio carlos',\n",
              " 'itapecerica',\n",
              " 'monte belo',\n",
              " 'mossoro',\n",
              " 'piraju',\n",
              " 'encruzilhada do sul',\n",
              " 'igaratinga',\n",
              " 'sao luis de montes belos',\n",
              " 'santa rosa',\n",
              " 'lagoinha',\n",
              " 'redentora',\n",
              " 'cuite',\n",
              " 'coxim',\n",
              " 'lucas do rio verde',\n",
              " 'ibirataia',\n",
              " 'olimpia',\n",
              " 'cedro',\n",
              " 'mario campos',\n",
              " 'umuarama',\n",
              " 'nova xavantina',\n",
              " 'sao borja',\n",
              " 'aguai',\n",
              " 'itapira',\n",
              " 'uniao da vitoria',\n",
              " 'nova odessa',\n",
              " 'itapuranga',\n",
              " 'nova cruz',\n",
              " 'apuiares',\n",
              " 'almirante tamandare',\n",
              " 'correia pinto',\n",
              " 'itamarandiba',\n",
              " 'juscimeira',\n",
              " 'ipora',\n",
              " 'cedro de sao joao',\n",
              " \"santa barbara d'oeste\",\n",
              " 'sao joao da urtiga',\n",
              " 'valparaiso de goias',\n",
              " 'jussara',\n",
              " 'capao da canoa',\n",
              " 'araxa',\n",
              " 'campo belo',\n",
              " 'monte aprazivel',\n",
              " 'bom jesus do querendo',\n",
              " 'socorro',\n",
              " 'catanduva',\n",
              " 'monte castelo',\n",
              " 'tabatinga',\n",
              " 'bayeux',\n",
              " 'ijui',\n",
              " 'tangara da serra',\n",
              " 'campos borges',\n",
              " 'palma',\n",
              " 'minacu',\n",
              " 'miracema',\n",
              " 'taruma',\n",
              " 'sao francisco do sul',\n",
              " 'cedral',\n",
              " 'camaragibe',\n",
              " 'lajeado',\n",
              " 'cerqueira cesar',\n",
              " 'frutal',\n",
              " 'igarata',\n",
              " 'novo gama',\n",
              " 'sapucaia do sul',\n",
              " 'juquitiba',\n",
              " 'terra boa',\n",
              " 'joao monlevade',\n",
              " 'porangatu',\n",
              " 'formosa da serra negra',\n",
              " 'rafard',\n",
              " 'rainha do mar',\n",
              " 'pontal',\n",
              " 'rio do sul',\n",
              " 'nilopolis',\n",
              " 'maracaju',\n",
              " 'santo augusto',\n",
              " 'banabuiu',\n",
              " 'buenopolis',\n",
              " 'barbalha',\n",
              " 'quintana',\n",
              " 'chorrocho',\n",
              " 'votuporanga',\n",
              " 'poco verde',\n",
              " 'cipo-guacu',\n",
              " 'santarem',\n",
              " 'santa clara do sul',\n",
              " 'ibiuna',\n",
              " 'capivari',\n",
              " 'arraias',\n",
              " 'patos',\n",
              " 'sao francisco do guapore',\n",
              " 'vitoria da conquista',\n",
              " 'urucuca',\n",
              " 'vacaria',\n",
              " 'campos altos',\n",
              " 'nossa senhora do socorro',\n",
              " 'cruzeiro do sul',\n",
              " 'cataguases',\n",
              " 'varzea grande',\n",
              " 'santa rita do sapucai',\n",
              " 'jaboticabal',\n",
              " 'ilha comprida',\n",
              " 'brasilia de minas',\n",
              " 'moreno',\n",
              " 'capanema',\n",
              " 'tombos',\n",
              " 'espumoso',\n",
              " 'ouro branco',\n",
              " 'valenca do piaui',\n",
              " 'igrejinha',\n",
              " 'engenheiro coelho',\n",
              " 'parauapebas',\n",
              " 'afonso claudio',\n",
              " 'sao bernardo',\n",
              " 'salto do jacui',\n",
              " 'pires do rio',\n",
              " 'astorga',\n",
              " 'medina',\n",
              " 'porto ferreira',\n",
              " 'aracariguama',\n",
              " 'hidrolandia',\n",
              " 'virginopolis',\n",
              " 'soledade de minas',\n",
              " 'casca',\n",
              " 'sapiranga',\n",
              " 'angatuba',\n",
              " 'ibirapua',\n",
              " 'itupeva',\n",
              " 'espera feliz',\n",
              " 'penedo',\n",
              " 'ibirite',\n",
              " 'miracatu',\n",
              " 'francisco santos',\n",
              " 'paracambi',\n",
              " 'cardoso',\n",
              " 'floriano',\n",
              " 'rondonopolis',\n",
              " 'barra de sao francisco',\n",
              " 'lavinia',\n",
              " 'guajara-mirim',\n",
              " 'guimaraes',\n",
              " 'sao tome',\n",
              " 'medianeira',\n",
              " 'conceicao das pedras',\n",
              " 'rinopolis',\n",
              " 'capim grosso',\n",
              " 'guaira',\n",
              " 'euclides da cunha paulista',\n",
              " 'lagoa da prata',\n",
              " 'nanuque',\n",
              " 'luis antonio',\n",
              " 'senador firmino',\n",
              " 'viradouro',\n",
              " 'itabera',\n",
              " 'cambara',\n",
              " 'sananduva',\n",
              " 'tapera',\n",
              " 'tupaciguara',\n",
              " 'colombo',\n",
              " 'ananindeua',\n",
              " 'coribe',\n",
              " 'rio doce',\n",
              " 'mogi mirim',\n",
              " 'tocos do moji',\n",
              " 'beberibe',\n",
              " 'formosa do rio preto',\n",
              " 'claudio',\n",
              " 'rio paranaiba',\n",
              " 'humberto de campos',\n",
              " 'camocim de sao felix',\n",
              " 'santo antonio de posse',\n",
              " 'mesquita',\n",
              " 'passa quatro',\n",
              " 'belo oriente',\n",
              " 'alto araguaia',\n",
              " 'igarassu',\n",
              " 'porto velho',\n",
              " 'cajazeiras',\n",
              " 'garopaba',\n",
              " 'rio azul',\n",
              " 'dois corregos',\n",
              " 'sooretama',\n",
              " 'cruzeiro do oeste',\n",
              " 'nazare paulista',\n",
              " 'riversul',\n",
              " 'iguaracu',\n",
              " 'maracas',\n",
              " 'parana',\n",
              " 'reboucas',\n",
              " 'ametista do sul',\n",
              " 'itu',\n",
              " 'cacu',\n",
              " 'vespasiano',\n",
              " 'lindolfo collor',\n",
              " 'sao lourenco',\n",
              " 'santana do sobrado',\n",
              " 'cafelandia',\n",
              " 'ibiapina',\n",
              " 'schroeder',\n",
              " 'sao joao do oriente',\n",
              " 'matao',\n",
              " 'itanhandu',\n",
              " 'santo angelo',\n",
              " 'capinopolis',\n",
              " 'colatina',\n",
              " 'nova mutum',\n",
              " 'munhoz de melo',\n",
              " 'ibate',\n",
              " 'unai',\n",
              " 'medeiros neto',\n",
              " 'anta',\n",
              " 'ouroeste',\n",
              " 'central',\n",
              " 'nova independencia',\n",
              " 'itapema',\n",
              " 'sao jose do cedro',\n",
              " 'camutanga',\n",
              " 'ipumirim',\n",
              " 'cristalia',\n",
              " 'andira',\n",
              " 'panelas',\n",
              " 'comodoro',\n",
              " 'domingos martins',\n",
              " 'tangua',\n",
              " 'sao gotardo',\n",
              " 'araguaina',\n",
              " 'ilheus',\n",
              " 'louveira',\n",
              " 'imbituba',\n",
              " 'ouricuri',\n",
              " 'itatinga',\n",
              " 'santo cristo',\n",
              " \"arraial d'ajuda\",\n",
              " 'piracanjuba',\n",
              " 'russas',\n",
              " 'lambari',\n",
              " 'vargem alta',\n",
              " 'sacra familia do tingua',\n",
              " 'assis chateaubriand',\n",
              " 'lago da pedra',\n",
              " 'unistalda',\n",
              " 'sao joao evangelista',\n",
              " 'paramirim',\n",
              " 'goias',\n",
              " 'paracuru',\n",
              " 'cruz alta',\n",
              " 'presidente bernardes',\n",
              " 'pains',\n",
              " 'sao goncalo do rio preto',\n",
              " 'jacinto machado',\n",
              " 'sobralia',\n",
              " 'maraba',\n",
              " 'paraibuna',\n",
              " 'toropi',\n",
              " 'jauru',\n",
              " 'cristalandia',\n",
              " 'castelo do piaui',\n",
              " 'ibipora',\n",
              " 'presidente dutra',\n",
              " 'vera cruz',\n",
              " 'paulo frontin',\n",
              " ...]"
            ]
          },
          "execution_count": 47,
          "metadata": {},
          "output_type": "execute_result"
        }
      ],
      "source": [
        "cust['customer_city'].unique().tolist()\n"
      ]
    },
    {
      "cell_type": "code",
      "execution_count": null,
      "id": "96e6dd4e",
      "metadata": {
        "id": "96e6dd4e",
        "outputId": "0b44f435-f8e3-47cf-e14f-7bdca003c853"
      },
      "outputs": [
        {
          "data": {
            "text/plain": [
              "False"
            ]
          },
          "execution_count": 49,
          "metadata": {},
          "output_type": "execute_result"
        }
      ],
      "source": [
        "#Tabel Customer: Identifikasi Data Duplicated\n",
        "cust.duplicated().any()"
      ]
    },
    {
      "cell_type": "code",
      "execution_count": null,
      "id": "36d13724",
      "metadata": {
        "id": "36d13724",
        "outputId": "a5a4c4a6-8ba2-4390-91d5-31ccd28061ff"
      },
      "outputs": [
        {
          "data": {
            "text/plain": [
              "customers_id                99441\n",
              "customers_uniq_id           96096\n",
              "customer_zip_code_prefix    14994\n",
              "customer_city                4119\n",
              "customer_state                 27\n",
              "dtype: int64"
            ]
          },
          "execution_count": 50,
          "metadata": {},
          "output_type": "execute_result"
        }
      ],
      "source": [
        "cust.nunique()\n"
      ]
    },
    {
      "cell_type": "code",
      "execution_count": null,
      "id": "a8e7e5c7",
      "metadata": {
        "id": "a8e7e5c7",
        "outputId": "acb5755d-7c6c-47dd-92de-b9e70a539127"
      },
      "outputs": [
        {
          "data": {
            "text/plain": [
              "True"
            ]
          },
          "execution_count": 51,
          "metadata": {},
          "output_type": "execute_result"
        }
      ],
      "source": [
        "cust['customers_uniq_id'].duplicated().any()"
      ]
    },
    {
      "cell_type": "code",
      "execution_count": null,
      "id": "47335456",
      "metadata": {
        "id": "47335456"
      },
      "outputs": [],
      "source": [
        "#Analisis\n",
        "#Objective 1: Perusahaan ingin mengetahui 5 Produk yang paling diminati/paling banyak diorder.\n",
        "#Kita bisa menghitung jumlah kemunculan product_id pada tabel order_items\n",
        "\n",
        "most_item = order_item"
      ]
    },
    {
      "cell_type": "code",
      "execution_count": null,
      "id": "93d813c2",
      "metadata": {
        "id": "93d813c2"
      },
      "outputs": [],
      "source": [
        "most_item = pd.DataFrame(most_item['product_id'].value_counts())\n"
      ]
    },
    {
      "cell_type": "code",
      "execution_count": null,
      "id": "d75f5e78",
      "metadata": {
        "id": "d75f5e78"
      },
      "outputs": [],
      "source": [
        "most_item = most_item.nlargest(5,'product_id').reset_index()\n"
      ]
    },
    {
      "cell_type": "code",
      "execution_count": null,
      "id": "dbbf4a26",
      "metadata": {
        "id": "dbbf4a26",
        "outputId": "808cd901-4682-4c96-870d-d27f5969d2c7"
      },
      "outputs": [
        {
          "data": {
            "text/html": [
              "<div>\n",
              "<style scoped>\n",
              "    .dataframe tbody tr th:only-of-type {\n",
              "        vertical-align: middle;\n",
              "    }\n",
              "\n",
              "    .dataframe tbody tr th {\n",
              "        vertical-align: top;\n",
              "    }\n",
              "\n",
              "    .dataframe thead th {\n",
              "        text-align: right;\n",
              "    }\n",
              "</style>\n",
              "<table border=\"1\" class=\"dataframe\">\n",
              "  <thead>\n",
              "    <tr style=\"text-align: right;\">\n",
              "      <th></th>\n",
              "      <th>index</th>\n",
              "      <th>product_id</th>\n",
              "    </tr>\n",
              "  </thead>\n",
              "  <tbody>\n",
              "    <tr>\n",
              "      <th>0</th>\n",
              "      <td>aca2eb7d00ea1a7b8ebd4e68314663af</td>\n",
              "      <td>527</td>\n",
              "    </tr>\n",
              "    <tr>\n",
              "      <th>1</th>\n",
              "      <td>99a4788cb24856965c36a24e339b6058</td>\n",
              "      <td>488</td>\n",
              "    </tr>\n",
              "    <tr>\n",
              "      <th>2</th>\n",
              "      <td>422879e10f46682990de24d770e7f83d</td>\n",
              "      <td>484</td>\n",
              "    </tr>\n",
              "    <tr>\n",
              "      <th>3</th>\n",
              "      <td>389d119b48cf3043d311335e499d9c6b</td>\n",
              "      <td>392</td>\n",
              "    </tr>\n",
              "    <tr>\n",
              "      <th>4</th>\n",
              "      <td>368c6c730842d78016ad823897a372db</td>\n",
              "      <td>388</td>\n",
              "    </tr>\n",
              "  </tbody>\n",
              "</table>\n",
              "</div>"
            ],
            "text/plain": [
              "                              index  product_id\n",
              "0  aca2eb7d00ea1a7b8ebd4e68314663af         527\n",
              "1  99a4788cb24856965c36a24e339b6058         488\n",
              "2  422879e10f46682990de24d770e7f83d         484\n",
              "3  389d119b48cf3043d311335e499d9c6b         392\n",
              "4  368c6c730842d78016ad823897a372db         388"
            ]
          },
          "execution_count": 56,
          "metadata": {},
          "output_type": "execute_result"
        }
      ],
      "source": [
        "most_item"
      ]
    },
    {
      "cell_type": "code",
      "execution_count": null,
      "id": "edaa0ffa",
      "metadata": {
        "id": "edaa0ffa"
      },
      "outputs": [],
      "source": [
        "most_item = most_item.rename(columns={'product_id': 'product_id_count'})\n",
        "most_item = most_item.rename(columns={'index': 'product_id'})"
      ]
    },
    {
      "cell_type": "code",
      "execution_count": null,
      "id": "3ca2b45c",
      "metadata": {
        "id": "3ca2b45c"
      },
      "outputs": [],
      "source": [
        "most_item = pd.merge(most_item,products,on='product_id',how='left')\n"
      ]
    },
    {
      "cell_type": "code",
      "execution_count": null,
      "id": "35223b38",
      "metadata": {
        "id": "35223b38"
      },
      "outputs": [],
      "source": [
        "most_item = most_item[['product_id','product_id_count','product_category_name']]\n"
      ]
    },
    {
      "cell_type": "code",
      "execution_count": null,
      "id": "e6e4f5a2",
      "metadata": {
        "id": "e6e4f5a2",
        "outputId": "86dac83e-dfaa-42fb-f23c-ec9f714cd14b"
      },
      "outputs": [
        {
          "data": {
            "image/png": "[encoded data removed]",
            "text/plain": [
              "<Figure size 640x480 with 1 Axes>"
            ]
          },
          "metadata": {},
          "output_type": "display_data"
        }
      ],
      "source": [
        "sns.barplot(data=most_item,x='product_id_count', y='product_id')\n",
        "for index, row in most_item.iterrows():\n",
        "    plt.annotate(row['product_id_count'], xy=(row['product_id_count'],row.name), ha='center', va='bottom')\n",
        "    plt.annotate(row['product_category_name'], xy=(row['product_id_count'],row.name), ha='center', va='top')\n",
        "plt.show()"
      ]
    },
    {
      "cell_type": "code",
      "execution_count": null,
      "id": "1f561284",
      "metadata": {
        "id": "1f561284"
      },
      "outputs": [],
      "source": [
        "# Objective 2: Perusahaan ingin melihat total penjualan dari tiap kategori product\n",
        "# Kita bisa melihat total penjualan tiap kategori dengan menjumlahkan nilai terjual pada tabel order item dan mencocokkan kategori produk di tabel products"
      ]
    },
    {
      "cell_type": "code",
      "execution_count": null,
      "id": "af3a5c8f",
      "metadata": {
        "id": "af3a5c8f"
      },
      "outputs": [],
      "source": [
        "case2 = pd.merge(order_item,products,on='product_id',how='left')"
      ]
    },
    {
      "cell_type": "code",
      "execution_count": null,
      "id": "7d21a222",
      "metadata": {
        "id": "7d21a222"
      },
      "outputs": [],
      "source": [
        "case2 = pd.DataFrame(case2.groupby('product_category_name')['price'].sum().sort_values(ascending=False)).reset_index()\n"
      ]
    },
    {
      "cell_type": "code",
      "execution_count": null,
      "id": "f0f5c7c1",
      "metadata": {
        "id": "f0f5c7c1"
      },
      "outputs": [],
      "source": [
        "case2 = case2.rename(columns={'price': 'total_price'})\n"
      ]
    },
    {
      "cell_type": "code",
      "execution_count": null,
      "id": "4d0032ae",
      "metadata": {
        "id": "4d0032ae"
      },
      "outputs": [],
      "source": [
        "case2 = case2.nlargest(10,'total_price')\n"
      ]
    },
    {
      "cell_type": "code",
      "execution_count": null,
      "id": "f304f291",
      "metadata": {
        "id": "f304f291",
        "outputId": "eb43384f-5c6d-48c4-ad6f-bf5c4c562836"
      },
      "outputs": [
        {
          "data": {
            "image/png": "[encoded data removed]",
            "text/plain": [
              "<Figure size 640x480 with 1 Axes>"
            ]
          },
          "metadata": {},
          "output_type": "display_data"
        }
      ],
      "source": [
        "sns.barplot(data=case2,y='product_category_name', x='total_price')\n",
        "for index, row in case2.iterrows():\n",
        "    plt.annotate(row['total_price'], xy=(row['total_price'],row.name), ha='center', va='bottom')\n",
        "plt.show()"
      ]
    }
  ],
  "metadata": {
    "kernelspec": {
      "display_name": "Python 3 (ipykernel)",
      "language": "python",
      "name": "python3"
    },
    "language_info": {
      "codemirror_mode": {
        "name": "ipython",
        "version": 3
      },
      "file_extension": ".py",
      "mimetype": "text/x-python",
      "name": "python",
      "nbconvert_exporter": "python",
      "pygments_lexer": "ipython3",
      "version": "3.10.9"
    },
    "colab": {
      "provenance": [],
      "include_colab_link": true
    }
  },
  "nbformat": 4,
  "nbformat_minor": 5
}